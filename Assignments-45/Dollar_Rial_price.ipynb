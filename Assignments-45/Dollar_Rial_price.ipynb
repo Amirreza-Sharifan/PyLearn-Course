{
 "cells": [
  {
   "cell_type": "code",
   "execution_count": 1,
   "metadata": {},
   "outputs": [],
   "source": [
    "import pandas as pd\n",
    "import numpy as np\n",
    "import matplotlib.pyplot as plt\n",
    "from numpy.linalg import inv\n",
    "from sklearn.model_selection import train_test_split\n",
    "from sklearn.metrics import mean_absolute_error\n",
    "from lls import LinearLeastSquare"
   ]
  },
  {
   "cell_type": "code",
   "execution_count": 2,
   "metadata": {},
   "outputs": [
    {
     "data": {
      "text/html": [
       "<div>\n",
       "<style scoped>\n",
       "    .dataframe tbody tr th:only-of-type {\n",
       "        vertical-align: middle;\n",
       "    }\n",
       "\n",
       "    .dataframe tbody tr th {\n",
       "        vertical-align: top;\n",
       "    }\n",
       "\n",
       "    .dataframe thead th {\n",
       "        text-align: right;\n",
       "    }\n",
       "</style>\n",
       "<table border=\"1\" class=\"dataframe\">\n",
       "  <thead>\n",
       "    <tr style=\"text-align: right;\">\n",
       "      <th></th>\n",
       "      <th>Unnamed: 0</th>\n",
       "      <th>Date</th>\n",
       "      <th>Persian_Date</th>\n",
       "      <th>Open</th>\n",
       "      <th>Low</th>\n",
       "      <th>High</th>\n",
       "      <th>Close</th>\n",
       "    </tr>\n",
       "  </thead>\n",
       "  <tbody>\n",
       "    <tr>\n",
       "      <th>0</th>\n",
       "      <td>0</td>\n",
       "      <td>11/27/2011</td>\n",
       "      <td>1390/09/06</td>\n",
       "      <td>13,700</td>\n",
       "      <td>13,700</td>\n",
       "      <td>13,700</td>\n",
       "      <td>13,700</td>\n",
       "    </tr>\n",
       "    <tr>\n",
       "      <th>1</th>\n",
       "      <td>1</td>\n",
       "      <td>11/28/2011</td>\n",
       "      <td>1390/09/07</td>\n",
       "      <td>13,440</td>\n",
       "      <td>13,440</td>\n",
       "      <td>13,440</td>\n",
       "      <td>13,440</td>\n",
       "    </tr>\n",
       "    <tr>\n",
       "      <th>2</th>\n",
       "      <td>2</td>\n",
       "      <td>11/29/2011</td>\n",
       "      <td>1390/09/08</td>\n",
       "      <td>13,350</td>\n",
       "      <td>13,350</td>\n",
       "      <td>13,350</td>\n",
       "      <td>13,350</td>\n",
       "    </tr>\n",
       "    <tr>\n",
       "      <th>3</th>\n",
       "      <td>3</td>\n",
       "      <td>11/30/2011</td>\n",
       "      <td>1390/09/09</td>\n",
       "      <td>13,400</td>\n",
       "      <td>13,400</td>\n",
       "      <td>13,400</td>\n",
       "      <td>13,400</td>\n",
       "    </tr>\n",
       "    <tr>\n",
       "      <th>4</th>\n",
       "      <td>4</td>\n",
       "      <td>12/1/2011</td>\n",
       "      <td>1390/09/10</td>\n",
       "      <td>13,500</td>\n",
       "      <td>13,500</td>\n",
       "      <td>13,500</td>\n",
       "      <td>13,500</td>\n",
       "    </tr>\n",
       "  </tbody>\n",
       "</table>\n",
       "</div>"
      ],
      "text/plain": [
       "   Unnamed: 0        Date Persian_Date    Open     Low    High   Close\n",
       "0           0  11/27/2011   1390/09/06  13,700  13,700  13,700  13,700\n",
       "1           1  11/28/2011   1390/09/07  13,440  13,440  13,440  13,440\n",
       "2           2  11/29/2011   1390/09/08  13,350  13,350  13,350  13,350\n",
       "3           3  11/30/2011   1390/09/09  13,400  13,400  13,400  13,400\n",
       "4           4   12/1/2011   1390/09/10  13,500  13,500  13,500  13,500"
      ]
     },
     "execution_count": 2,
     "metadata": {},
     "output_type": "execute_result"
    }
   ],
   "source": [
    "data = pd.read_csv(\"Dollar_Rial_Price_Dataset.csv\")\n",
    "data.head()"
   ]
  },
  {
   "cell_type": "code",
   "execution_count": 31,
   "metadata": {},
   "outputs": [],
   "source": [
    "data[\"Year\"] = data[\"Persian_Date\"].str.split(\"/\").str[0].astype(int)\n",
    "\n",
    "ahmadinejad_data = data[(data['Year'] >= 1384) & (data['Year'] <= 1392)]\n",
    "rouhani_data = data[(data['Year'] >= 1392) & (data['Year'] <= 1400)]\n",
    "raisi_data = data[data['Year'] >= 1400]"
   ]
  },
  {
   "cell_type": "code",
   "execution_count": 32,
   "metadata": {},
   "outputs": [
    {
     "name": "stdout",
     "output_type": "stream",
     "text": [
      "Highest Dollar Prices(Rial): Ahmadinejad: 39,700, Rouhani: 99,950, Raisi: 555,600\n"
     ]
    }
   ],
   "source": [
    "ahmadinejad_high = ahmadinejad_data['High'].max()\n",
    "rouhani_high = rouhani_data['High'].max()\n",
    "raisi_high = raisi_data['High'].max()\n",
    "\n",
    "print(f\"Highest Dollar Prices(Rial): Ahmadinejad: {ahmadinejad_high}, Rouhani: {rouhani_high}, Raisi: {raisi_high}\")"
   ]
  },
  {
   "cell_type": "code",
   "execution_count": 33,
   "metadata": {},
   "outputs": [
    {
     "name": "stdout",
     "output_type": "stream",
     "text": [
      "Lowest Dollar Prices(Rial): Ahmadinejad: 13,350, Rouhani: 100,370, Raisi: 206,210\n"
     ]
    }
   ],
   "source": [
    "ahmadinejad_low = ahmadinejad_data['Low'].min()\n",
    "rouhani_low = rouhani_data['Low'].min()\n",
    "raisi_low = raisi_data['Low'].min()\n",
    "\n",
    "print(f\"Lowest Dollar Prices(Rial): Ahmadinejad: {ahmadinejad_low}, Rouhani: {rouhani_low}, Raisi: {raisi_low}\")"
   ]
  },
  {
   "cell_type": "code",
   "execution_count": 34,
   "metadata": {},
   "outputs": [],
   "source": [
    "X_ahmadinejad = ahmadinejad_data[['Open', 'Low', 'High']].replace(',', '', regex=True).astype(float)\n",
    "y_ahmadinejad = ahmadinejad_data['Close'].replace(',', '', regex=True).astype(float)\n",
    "\n",
    "X_rouhani = rouhani_data[['Open', 'Low', 'High']].replace(',', '', regex=True).astype(float)\n",
    "y_rouhani = rouhani_data['Close'].replace(',', '', regex=True).astype(float)\n",
    "\n",
    "X_raisi = raisi_data[['Open', 'Low', 'High']].replace(',', '', regex=True).astype(float)\n",
    "y_raisi = raisi_data['Close'].replace(',', '', regex=True).astype(float)"
   ]
  },
  {
   "cell_type": "markdown",
   "metadata": {},
   "source": [
    "Ahmadinejad's presidency"
   ]
  },
  {
   "cell_type": "code",
   "execution_count": 35,
   "metadata": {},
   "outputs": [
    {
     "name": "stdout",
     "output_type": "stream",
     "text": [
      "MAE for Ahmadinejad's presidency: 48.49981370683401\n"
     ]
    }
   ],
   "source": [
    "X_train_ahm, X_test_ahm, y_train_ahm, y_test_ahm = train_test_split(X_ahmadinejad, y_ahmadinejad, test_size=0.2, random_state=42)\n",
    "lls_ahm = LinearLeastSquare()\n",
    "lls_ahm.fit(X_train_ahm.values, y_train_ahm.values)\n",
    "y_pred_ahm = lls_ahm.predict(X_test_ahm.values)\n",
    "mae_ahmadinejad = mean_absolute_error(y_test_ahm, y_pred_ahm)\n",
    "print(f\"MAE for Ahmadinejad's presidency: {mae_ahmadinejad}\")"
   ]
  },
  {
   "cell_type": "markdown",
   "metadata": {},
   "source": [
    "Rouhani's presidency"
   ]
  },
  {
   "cell_type": "code",
   "execution_count": 36,
   "metadata": {},
   "outputs": [
    {
     "name": "stdout",
     "output_type": "stream",
     "text": [
      "MAE for Rouhani's presidency: 475.1518688837807\n"
     ]
    }
   ],
   "source": [
    "X_train_rouh, X_test_rouh, y_train_rouh, y_test_rouh = train_test_split(X_rouhani, y_rouhani, test_size=0.2, random_state=42)\n",
    "lls_rouh = LinearLeastSquare()\n",
    "lls_rouh.fit(X_train_rouh.values, y_train_rouh.values)\n",
    "y_pred_rouh = lls_rouh.predict(X_test_rouh.values)\n",
    "mae_rouhani = mean_absolute_error(y_test_rouh, y_pred_rouh)\n",
    "print(f\"MAE for Rouhani's presidency: {mae_rouhani}\")"
   ]
  },
  {
   "cell_type": "markdown",
   "metadata": {},
   "source": [
    "Raisi's presidency"
   ]
  },
  {
   "cell_type": "code",
   "execution_count": 37,
   "metadata": {},
   "outputs": [
    {
     "name": "stdout",
     "output_type": "stream",
     "text": [
      "MAE for Raisi's presidency: 1279.6019603392135\n"
     ]
    }
   ],
   "source": [
    "X_train_rai, X_test_rai, y_train_rai, y_test_rai = train_test_split(X_raisi, y_raisi, test_size=0.2, random_state=42)\n",
    "lls_rai = LinearLeastSquare()\n",
    "lls_rai.fit(X_train_rai.values, y_train_rai.values)\n",
    "y_pred_rai = lls_rai.predict(X_test_rai.values)\n",
    "mae_raisi = mean_absolute_error(y_test_rai, y_pred_rai)\n",
    "print(f\"MAE for Raisi's presidency: {mae_raisi}\")"
   ]
  }
 ],
 "metadata": {
  "kernelspec": {
   "display_name": "Python 3",
   "language": "python",
   "name": "python3"
  },
  "language_info": {
   "codemirror_mode": {
    "name": "ipython",
    "version": 3
   },
   "file_extension": ".py",
   "mimetype": "text/x-python",
   "name": "python",
   "nbconvert_exporter": "python",
   "pygments_lexer": "ipython3",
   "version": "3.13.0"
  }
 },
 "nbformat": 4,
 "nbformat_minor": 2
}
