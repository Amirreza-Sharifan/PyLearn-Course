{
  "cells": [
    {
      "cell_type": "code",
      "execution_count": null,
      "metadata": {
        "colab": {
          "base_uri": "https://localhost:8080/"
        },
        "id": "BV9Rl7t5uFLD",
        "outputId": "2cca8983-ab9e-4d26-afc3-1bdae2ec436c"
      },
      "outputs": [
        {
          "name": "stdout",
          "output_type": "stream",
          "text": [
            "Requirement already satisfied: deepface in /usr/local/lib/python3.10/dist-packages (0.0.93)\n",
            "Requirement already satisfied: requests>=2.27.1 in /usr/local/lib/python3.10/dist-packages (from deepface) (2.32.3)\n",
            "Requirement already satisfied: numpy>=1.14.0 in /usr/local/lib/python3.10/dist-packages (from deepface) (1.26.4)\n",
            "Requirement already satisfied: pandas>=0.23.4 in /usr/local/lib/python3.10/dist-packages (from deepface) (2.2.2)\n",
            "Requirement already satisfied: gdown>=3.10.1 in /usr/local/lib/python3.10/dist-packages (from deepface) (5.2.0)\n",
            "Requirement already satisfied: tqdm>=4.30.0 in /usr/local/lib/python3.10/dist-packages (from deepface) (4.67.1)\n",
            "Requirement already satisfied: Pillow>=5.2.0 in /usr/local/lib/python3.10/dist-packages (from deepface) (11.0.0)\n",
            "Requirement already satisfied: opencv-python>=4.5.5.64 in /usr/local/lib/python3.10/dist-packages (from deepface) (4.10.0.84)\n",
            "Requirement already satisfied: tensorflow>=1.9.0 in /usr/local/lib/python3.10/dist-packages (from deepface) (2.17.1)\n",
            "Requirement already satisfied: keras>=2.2.0 in /usr/local/lib/python3.10/dist-packages (from deepface) (3.5.0)\n",
            "Requirement already satisfied: Flask>=1.1.2 in /usr/local/lib/python3.10/dist-packages (from deepface) (3.1.0)\n",
            "Requirement already satisfied: flask-cors>=4.0.1 in /usr/local/lib/python3.10/dist-packages (from deepface) (5.0.0)\n",
            "Requirement already satisfied: mtcnn>=0.1.0 in /usr/local/lib/python3.10/dist-packages (from deepface) (1.0.0)\n",
            "Requirement already satisfied: retina-face>=0.0.1 in /usr/local/lib/python3.10/dist-packages (from deepface) (0.0.17)\n",
            "Requirement already satisfied: fire>=0.4.0 in /usr/local/lib/python3.10/dist-packages (from deepface) (0.7.0)\n",
            "Requirement already satisfied: gunicorn>=20.1.0 in /usr/local/lib/python3.10/dist-packages (from deepface) (23.0.0)\n",
            "Requirement already satisfied: termcolor in /usr/local/lib/python3.10/dist-packages (from fire>=0.4.0->deepface) (2.5.0)\n",
            "Requirement already satisfied: Werkzeug>=3.1 in /usr/local/lib/python3.10/dist-packages (from Flask>=1.1.2->deepface) (3.1.3)\n",
            "Requirement already satisfied: Jinja2>=3.1.2 in /usr/local/lib/python3.10/dist-packages (from Flask>=1.1.2->deepface) (3.1.4)\n",
            "Requirement already satisfied: itsdangerous>=2.2 in /usr/local/lib/python3.10/dist-packages (from Flask>=1.1.2->deepface) (2.2.0)\n",
            "Requirement already satisfied: click>=8.1.3 in /usr/local/lib/python3.10/dist-packages (from Flask>=1.1.2->deepface) (8.1.7)\n",
            "Requirement already satisfied: blinker>=1.9 in /usr/local/lib/python3.10/dist-packages (from Flask>=1.1.2->deepface) (1.9.0)\n",
            "Requirement already satisfied: beautifulsoup4 in /usr/local/lib/python3.10/dist-packages (from gdown>=3.10.1->deepface) (4.12.3)\n",
            "Requirement already satisfied: filelock in /usr/local/lib/python3.10/dist-packages (from gdown>=3.10.1->deepface) (3.16.1)\n",
            "Requirement already satisfied: packaging in /usr/local/lib/python3.10/dist-packages (from gunicorn>=20.1.0->deepface) (24.2)\n",
            "Requirement already satisfied: absl-py in /usr/local/lib/python3.10/dist-packages (from keras>=2.2.0->deepface) (1.4.0)\n",
            "Requirement already satisfied: rich in /usr/local/lib/python3.10/dist-packages (from keras>=2.2.0->deepface) (13.9.4)\n",
            "Requirement already satisfied: namex in /usr/local/lib/python3.10/dist-packages (from keras>=2.2.0->deepface) (0.0.8)\n",
            "Requirement already satisfied: h5py in /usr/local/lib/python3.10/dist-packages (from keras>=2.2.0->deepface) (3.12.1)\n",
            "Requirement already satisfied: optree in /usr/local/lib/python3.10/dist-packages (from keras>=2.2.0->deepface) (0.13.1)\n",
            "Requirement already satisfied: ml-dtypes in /usr/local/lib/python3.10/dist-packages (from keras>=2.2.0->deepface) (0.4.1)\n",
            "Requirement already satisfied: joblib>=1.4.2 in /usr/local/lib/python3.10/dist-packages (from mtcnn>=0.1.0->deepface) (1.4.2)\n",
            "Requirement already satisfied: lz4>=4.3.3 in /usr/local/lib/python3.10/dist-packages (from mtcnn>=0.1.0->deepface) (4.3.3)\n",
            "Requirement already satisfied: python-dateutil>=2.8.2 in /usr/local/lib/python3.10/dist-packages (from pandas>=0.23.4->deepface) (2.8.2)\n",
            "Requirement already satisfied: pytz>=2020.1 in /usr/local/lib/python3.10/dist-packages (from pandas>=0.23.4->deepface) (2024.2)\n",
            "Requirement already satisfied: tzdata>=2022.7 in /usr/local/lib/python3.10/dist-packages (from pandas>=0.23.4->deepface) (2024.2)\n",
            "Requirement already satisfied: charset-normalizer<4,>=2 in /usr/local/lib/python3.10/dist-packages (from requests>=2.27.1->deepface) (3.4.0)\n",
            "Requirement already satisfied: idna<4,>=2.5 in /usr/local/lib/python3.10/dist-packages (from requests>=2.27.1->deepface) (3.10)\n",
            "Requirement already satisfied: urllib3<3,>=1.21.1 in /usr/local/lib/python3.10/dist-packages (from requests>=2.27.1->deepface) (2.2.3)\n",
            "Requirement already satisfied: certifi>=2017.4.17 in /usr/local/lib/python3.10/dist-packages (from requests>=2.27.1->deepface) (2024.12.14)\n",
            "Requirement already satisfied: astunparse>=1.6.0 in /usr/local/lib/python3.10/dist-packages (from tensorflow>=1.9.0->deepface) (1.6.3)\n",
            "Requirement already satisfied: flatbuffers>=24.3.25 in /usr/local/lib/python3.10/dist-packages (from tensorflow>=1.9.0->deepface) (24.3.25)\n",
            "Requirement already satisfied: gast!=0.5.0,!=0.5.1,!=0.5.2,>=0.2.1 in /usr/local/lib/python3.10/dist-packages (from tensorflow>=1.9.0->deepface) (0.6.0)\n",
            "Requirement already satisfied: google-pasta>=0.1.1 in /usr/local/lib/python3.10/dist-packages (from tensorflow>=1.9.0->deepface) (0.2.0)\n",
            "Requirement already satisfied: libclang>=13.0.0 in /usr/local/lib/python3.10/dist-packages (from tensorflow>=1.9.0->deepface) (18.1.1)\n",
            "Requirement already satisfied: opt-einsum>=2.3.2 in /usr/local/lib/python3.10/dist-packages (from tensorflow>=1.9.0->deepface) (3.4.0)\n",
            "Requirement already satisfied: protobuf!=4.21.0,!=4.21.1,!=4.21.2,!=4.21.3,!=4.21.4,!=4.21.5,<5.0.0dev,>=3.20.3 in /usr/local/lib/python3.10/dist-packages (from tensorflow>=1.9.0->deepface) (4.25.5)\n",
            "Requirement already satisfied: setuptools in /usr/local/lib/python3.10/dist-packages (from tensorflow>=1.9.0->deepface) (75.1.0)\n",
            "Requirement already satisfied: six>=1.12.0 in /usr/local/lib/python3.10/dist-packages (from tensorflow>=1.9.0->deepface) (1.17.0)\n",
            "Requirement already satisfied: typing-extensions>=3.6.6 in /usr/local/lib/python3.10/dist-packages (from tensorflow>=1.9.0->deepface) (4.12.2)\n",
            "Requirement already satisfied: wrapt>=1.11.0 in /usr/local/lib/python3.10/dist-packages (from tensorflow>=1.9.0->deepface) (1.17.0)\n",
            "Requirement already satisfied: grpcio<2.0,>=1.24.3 in /usr/local/lib/python3.10/dist-packages (from tensorflow>=1.9.0->deepface) (1.68.1)\n",
            "Requirement already satisfied: tensorboard<2.18,>=2.17 in /usr/local/lib/python3.10/dist-packages (from tensorflow>=1.9.0->deepface) (2.17.1)\n",
            "Requirement already satisfied: tensorflow-io-gcs-filesystem>=0.23.1 in /usr/local/lib/python3.10/dist-packages (from tensorflow>=1.9.0->deepface) (0.37.1)\n",
            "Requirement already satisfied: wheel<1.0,>=0.23.0 in /usr/local/lib/python3.10/dist-packages (from astunparse>=1.6.0->tensorflow>=1.9.0->deepface) (0.45.1)\n",
            "Requirement already satisfied: MarkupSafe>=2.0 in /usr/local/lib/python3.10/dist-packages (from Jinja2>=3.1.2->Flask>=1.1.2->deepface) (3.0.2)\n",
            "Requirement already satisfied: markdown>=2.6.8 in /usr/local/lib/python3.10/dist-packages (from tensorboard<2.18,>=2.17->tensorflow>=1.9.0->deepface) (3.7)\n",
            "Requirement already satisfied: tensorboard-data-server<0.8.0,>=0.7.0 in /usr/local/lib/python3.10/dist-packages (from tensorboard<2.18,>=2.17->tensorflow>=1.9.0->deepface) (0.7.2)\n",
            "Requirement already satisfied: soupsieve>1.2 in /usr/local/lib/python3.10/dist-packages (from beautifulsoup4->gdown>=3.10.1->deepface) (2.6)\n",
            "Requirement already satisfied: PySocks!=1.5.7,>=1.5.6 in /usr/local/lib/python3.10/dist-packages (from requests[socks]->gdown>=3.10.1->deepface) (1.7.1)\n",
            "Requirement already satisfied: markdown-it-py>=2.2.0 in /usr/local/lib/python3.10/dist-packages (from rich->keras>=2.2.0->deepface) (3.0.0)\n",
            "Requirement already satisfied: pygments<3.0.0,>=2.13.0 in /usr/local/lib/python3.10/dist-packages (from rich->keras>=2.2.0->deepface) (2.18.0)\n",
            "Requirement already satisfied: mdurl~=0.1 in /usr/local/lib/python3.10/dist-packages (from markdown-it-py>=2.2.0->rich->keras>=2.2.0->deepface) (0.1.2)\n"
          ]
        }
      ],
      "source": [
        "! pip install deepface"
      ]
    },
    {
      "cell_type": "code",
      "execution_count": 22,
      "metadata": {
        "id": "XC_wKFjwtw_Q"
      },
      "outputs": [],
      "source": [
        "import os\n",
        "import numpy as np\n",
        "import pandas as pd\n",
        "from tqdm import tqdm\n",
        "import matplotlib.pyplot as plt\n",
        "from deepface import DeepFace\n",
        "from sklearn.model_selection import train_test_split\n",
        "from tensorflow.keras.models import Sequential\n",
        "from tensorflow.keras.layers import Dense, Dropout\n",
        "from tensorflow.keras.models import load_model\n",
        "from tensorflow.keras.utils import to_categorical\n",
        "from sklearn.preprocessing import LabelEncoder"
      ]
    },
    {
      "cell_type": "code",
      "execution_count": null,
      "metadata": {
        "id": "UT1enG2muWAT"
      },
      "outputs": [],
      "source": [
        "def generate_dataset(dataset_path, output_file):\n",
        "    data = []  # To store all extracted data\n",
        "\n",
        "    for folder in tqdm(os.listdir(dataset_path)):  # Iterate through subfolders\n",
        "        folder_path = os.path.join(dataset_path, folder)\n",
        "        if os.path.isdir(folder_path):\n",
        "            for image_file in os.listdir(folder_path):  # Iterate through images in the folder\n",
        "                img_path = os.path.join(folder_path, image_file)\n",
        "                try:\n",
        "                    embedding_objs = DeepFace.represent(img_path=img_path, model_name=\"ArcFace\")\n",
        "                    if embedding_objs:  # Ensure embeddings are not empty\n",
        "                        embeddings = embedding_objs[0]['embedding']\n",
        "                        data.append([folder, image_file] + embeddings)\n",
        "                except Exception as e:\n",
        "                    print(f\"Error processing {img_path}: {e}\")\n",
        "\n",
        "    # Save the dataset as CSV\n",
        "    columns = [\"label\", \"file_name\"] + [f\"feature{i+1}\" for i in range(len(data[0]) - 2)]\n",
        "    df = pd.DataFrame(data, columns=columns)\n",
        "    df.to_csv(output_file, index=False)\n",
        "    print(f\"Dataset saved to {output_file}\")"
      ]
    },
    {
      "cell_type": "code",
      "execution_count": 25,
      "metadata": {
        "id": "1vipZzQ5uaya"
      },
      "outputs": [],
      "source": [
        "def train_mlp_model(dataset_file, model_save_path):\n",
        "    # Load dataset\n",
        "    df = pd.read_csv(dataset_file)\n",
        "\n",
        "    # Prepare features (X) and labels (y)\n",
        "    X = df.iloc[:, 2:].values  # Feature columns\n",
        "    y = df[\"label\"].values     # Label column\n",
        "\n",
        "    # Encode labels\n",
        "    label_encoder = LabelEncoder()\n",
        "    y_encoded = label_encoder.fit_transform(y)\n",
        "    y_categorical = to_categorical(y_encoded)\n",
        "\n",
        "    # Split into train and test sets\n",
        "    X_train, X_test, y_train, y_test = train_test_split(X, y_categorical, test_size=0.2, random_state=42)\n",
        "\n",
        "    # Build MLP model\n",
        "    model = Sequential([\n",
        "        Dense(128, input_dim=X_train.shape[1], activation=\"relu\"),\n",
        "        Dropout(0.5),\n",
        "        Dense(64, activation=\"relu\"),\n",
        "        Dropout(0.5),\n",
        "        Dense(y_categorical.shape[1], activation=\"softmax\")  # Output layer\n",
        "    ])\n",
        "\n",
        "    model.compile(optimizer=\"adam\", loss=\"categorical_crossentropy\", metrics=[\"accuracy\"])\n",
        "\n",
        "    # Train model and store the history\n",
        "    history = model.fit(X_train, y_train, validation_data=(X_test, y_test), epochs=50, batch_size=32, verbose=1)\n",
        "\n",
        "    # Save the trained model\n",
        "    model.save(model_save_path)\n",
        "    print(f\"Model saved to {model_save_path}\")\n",
        "\n",
        "    # Plot the loss curve\n",
        "    plt.figure(figsize=(10, 7))\n",
        "    plt.plot(history.history[\"loss\"], label=\"Loss\", color='red')\n",
        "    plt.title(\"Loss vs Epochs\")\n",
        "    plt.grid(alpha=0.3)\n",
        "    plt.legend()\n",
        "    plt.show()\n",
        "\n",
        "    return label_encoder\n"
      ]
    },
    {
      "cell_type": "code",
      "execution_count": null,
      "metadata": {
        "id": "AUSNraWSudpL"
      },
      "outputs": [],
      "source": [
        "def predict_image(model_path, label_encoder, img_path):\n",
        "    # Load the trained model\n",
        "    model = load_model(model_path)\n",
        "\n",
        "    # Generate feature vector for the image\n",
        "    embedding_objs = DeepFace.represent(img_path=img_path, model_name=\"ArcFace\")\n",
        "    if embedding_objs:\n",
        "        embeddings = embedding_objs[0]['embedding']\n",
        "        embeddings = np.array(embeddings).reshape(1, -1)  # Reshape for prediction\n",
        "\n",
        "        # Predict label\n",
        "        predictions = model.predict(embeddings)\n",
        "        predicted_label = label_encoder.inverse_transform([np.argmax(predictions)])\n",
        "        return predicted_label[0]\n",
        "    else:\n",
        "        raise ValueError(\"No embedding could be generated for the given image.\")"
      ]
    },
    {
      "cell_type": "code",
      "execution_count": 10,
      "metadata": {
        "id": "9J4JzRKWugoQ"
      },
      "outputs": [],
      "source": [
        "dataset_path = r\"/content/drive/MyDrive/PersianFace\"\n",
        "output_file = \"persian_faces_dataset.csv\"\n",
        "model_save_path = \"mlp_model.h5\""
      ]
    },
    {
      "cell_type": "code",
      "execution_count": 11,
      "metadata": {
        "colab": {
          "base_uri": "https://localhost:8080/"
        },
        "id": "OysKcvt0viGN",
        "outputId": "cc4d6e10-5df2-40e7-9846-a0c14b4fa784"
      },
      "outputs": [
        {
          "name": "stderr",
          "output_type": "stream",
          "text": [
            "\r  0%|          | 0/36 [00:00<?, ?it/s]"
          ]
        },
        {
          "name": "stdout",
          "output_type": "stream",
          "text": [
            "25-01-18 09:28:40 - arcface_weights.h5 will be downloaded to /root/.deepface/weights/arcface_weights.h5\n"
          ]
        },
        {
          "name": "stderr",
          "output_type": "stream",
          "text": [
            "Downloading...\n",
            "From: https://github.com/serengil/deepface_models/releases/download/v1.0/arcface_weights.h5\n",
            "To: /root/.deepface/weights/arcface_weights.h5\n",
            "\n",
            "  0%|          | 0.00/137M [00:00<?, ?B/s]\u001b[A\n",
            "  0%|          | 524k/137M [00:00<00:50, 2.72MB/s]\u001b[A\n",
            "  2%|▏         | 2.62M/137M [00:00<00:12, 10.5MB/s]\u001b[A\n",
            "  7%|▋         | 9.96M/137M [00:00<00:03, 32.8MB/s]\u001b[A\n",
            " 13%|█▎        | 18.4M/137M [00:00<00:02, 49.8MB/s]\u001b[A\n",
            " 20%|█▉        | 26.7M/137M [00:00<00:01, 60.2MB/s]\u001b[A\n",
            " 25%|██▌       | 34.6M/137M [00:00<00:01, 65.7MB/s]\u001b[A\n",
            " 32%|███▏      | 43.5M/137M [00:00<00:01, 72.3MB/s]\u001b[A\n",
            " 38%|███▊      | 51.9M/137M [00:00<00:01, 75.5MB/s]\u001b[A\n",
            " 44%|████▎     | 59.8M/137M [00:01<00:01, 76.0MB/s]\u001b[A\n",
            " 50%|████▉     | 68.2M/137M [00:01<00:00, 78.0MB/s]\u001b[A\n",
            " 56%|█████▌    | 76.5M/137M [00:01<00:00, 79.1MB/s]\u001b[A\n",
            " 62%|██████▏   | 84.9M/137M [00:01<00:00, 80.2MB/s]\u001b[A\n",
            " 68%|██████▊   | 93.3M/137M [00:01<00:00, 80.5MB/s]\u001b[A\n",
            " 74%|███████▍  | 102M/137M [00:01<00:00, 81.1MB/s] \u001b[A\n",
            " 80%|████████  | 110M/137M [00:01<00:00, 81.0MB/s]\u001b[A\n",
            " 86%|████████▋ | 118M/137M [00:01<00:00, 80.9MB/s]\u001b[A\n",
            " 93%|█████████▎| 127M/137M [00:01<00:00, 81.6MB/s]\u001b[A\n",
            "100%|██████████| 137M/137M [00:01<00:00, 70.1MB/s]\n"
          ]
        },
        {
          "name": "stdout",
          "output_type": "stream",
          "text": [
            "Error processing /content/drive/MyDrive/PersianFace/Bahram_Radan/Bahram Radan (39).jpg: Face could not be detected in /content/drive/MyDrive/PersianFace/Bahram_Radan/Bahram Radan (39).jpg.Please confirm that the picture is a face photo or consider to set enforce_detection param to False.\n"
          ]
        },
        {
          "name": "stderr",
          "output_type": "stream",
          "text": [
            "\r 17%|█▋        | 6/36 [02:55<14:36, 29.23s/it]"
          ]
        },
        {
          "name": "stdout",
          "output_type": "stream",
          "text": [
            "Error processing /content/drive/MyDrive/PersianFace/Ehsan_Alikhani/22143436-2453-b__1483-1.jpg: Face could not be detected in /content/drive/MyDrive/PersianFace/Ehsan_Alikhani/22143436-2453-b__1483-1.jpg.Please confirm that the picture is a face photo or consider to set enforce_detection param to False.\n",
            "Error processing /content/drive/MyDrive/PersianFace/Ehsan_Alikhani/nody-عکس-خواهر-و-برادران-احسان-علیخانی-1626891749-1.jpg: Input image must not have non-english characters - /content/drive/MyDrive/PersianFace/Ehsan_Alikhani/nody-عکس-خواهر-و-برادران-احسان-علیخانی-1626891749-1.jpg\n",
            "Error processing /content/drive/MyDrive/PersianFace/Ehsan_Alikhani/nody-عکس-سحر-علیخانی-خواهر-احسان-علیخانی-1629660799-0.jpg: Input image must not have non-english characters - /content/drive/MyDrive/PersianFace/Ehsan_Alikhani/nody-عکس-سحر-علیخانی-خواهر-احسان-علیخانی-1629660799-0.jpg\n",
            "Error processing /content/drive/MyDrive/PersianFace/Ehsan_Alikhani/احسان+علیخانی (1)-0.jpg: Input image must not have non-english characters - /content/drive/MyDrive/PersianFace/Ehsan_Alikhani/احسان+علیخانی (1)-0.jpg\n",
            "Error processing /content/drive/MyDrive/PersianFace/Ehsan_Alikhani/احسان+علیخانی (3)-0.jpg: Input image must not have non-english characters - /content/drive/MyDrive/PersianFace/Ehsan_Alikhani/احسان+علیخانی (3)-0.jpg\n",
            "Error processing /content/drive/MyDrive/PersianFace/Ehsan_Alikhani/احسان+علیخانی (2)-0.jpg: Input image must not have non-english characters - /content/drive/MyDrive/PersianFace/Ehsan_Alikhani/احسان+علیخانی (2)-0.jpg\n",
            "Error processing /content/drive/MyDrive/PersianFace/Ehsan_Alikhani/احسان+علیخانی (4)-0.jpg: Input image must not have non-english characters - /content/drive/MyDrive/PersianFace/Ehsan_Alikhani/احسان+علیخانی (4)-0.jpg\n",
            "Error processing /content/drive/MyDrive/PersianFace/Ehsan_Alikhani/احسان+علیخانی (5)-0.jpg: Input image must not have non-english characters - /content/drive/MyDrive/PersianFace/Ehsan_Alikhani/احسان+علیخانی (5)-0.jpg\n",
            "Error processing /content/drive/MyDrive/PersianFace/Ehsan_Alikhani/احسان+علیخانی+ (1)-0.jpg: Input image must not have non-english characters - /content/drive/MyDrive/PersianFace/Ehsan_Alikhani/احسان+علیخانی+ (1)-0.jpg\n",
            "Error processing /content/drive/MyDrive/PersianFace/Ehsan_Alikhani/احسان+علیخانی+-0.jpg: Input image must not have non-english characters - /content/drive/MyDrive/PersianFace/Ehsan_Alikhani/احسان+علیخانی+-0.jpg\n",
            "Error processing /content/drive/MyDrive/PersianFace/Ehsan_Alikhani/احسان+علیخانی-1.jpg: Input image must not have non-english characters - /content/drive/MyDrive/PersianFace/Ehsan_Alikhani/احسان+علیخانی-1.jpg\n",
            "Error processing /content/drive/MyDrive/PersianFace/Ehsan_Alikhani/احسان-علیخانی-و-آرش-ظلی-پور-0.jpg: Input image must not have non-english characters - /content/drive/MyDrive/PersianFace/Ehsan_Alikhani/احسان-علیخانی-و-آرش-ظلی-پور-0.jpg\n",
            "Error processing /content/drive/MyDrive/PersianFace/Ehsan_Alikhani/بیوگرافی-احسان-علیخانی-0.jpg: Input image must not have non-english characters - /content/drive/MyDrive/PersianFace/Ehsan_Alikhani/بیوگرافی-احسان-علیخانی-0.jpg\n",
            "Error processing /content/drive/MyDrive/PersianFace/Ehsan_Alikhani/صب45فغ6ع-0.jpg: Input image must not have non-english characters - /content/drive/MyDrive/PersianFace/Ehsan_Alikhani/صب45فغ6ع-0.jpg\n",
            "Error processing /content/drive/MyDrive/PersianFace/Ehsan_Alikhani/علیخانی (1)-0.jpg: Input image must not have non-english characters - /content/drive/MyDrive/PersianFace/Ehsan_Alikhani/علیخانی (1)-0.jpg\n",
            "Error processing /content/drive/MyDrive/PersianFace/Ehsan_Alikhani/علیخانی-1.jpg: Input image must not have non-english characters - /content/drive/MyDrive/PersianFace/Ehsan_Alikhani/علیخانی-1.jpg\n",
            "Error processing /content/drive/MyDrive/PersianFace/Ehsan_Alikhani/منظور-احسان-علیخانی-از-تصاحب-در-استوری-اش-چه-بود-0.jpg: Input image must not have non-english characters - /content/drive/MyDrive/PersianFace/Ehsan_Alikhani/منظور-احسان-علیخانی-از-تصاحب-در-استوری-اش-چه-بود-0.jpg\n",
            "Error processing /content/drive/MyDrive/PersianFace/Ehsan_Alikhani/همسر+احسان+علیخانی-0.jpg: Input image must not have non-english characters - /content/drive/MyDrive/PersianFace/Ehsan_Alikhani/همسر+احسان+علیخانی-0.jpg\n"
          ]
        },
        {
          "name": "stderr",
          "output_type": "stream",
          "text": [
            "\r 19%|█▉        | 7/36 [03:44<15:59, 33.09s/it]"
          ]
        },
        {
          "name": "stdout",
          "output_type": "stream",
          "text": [
            "Error processing /content/drive/MyDrive/PersianFace/Behnam_Bani/Behnam-Bani-56_01.jpg: Face could not be detected in /content/drive/MyDrive/PersianFace/Behnam_Bani/Behnam-Bani-56_01.jpg.Please confirm that the picture is a face photo or consider to set enforce_detection param to False.\n",
            "Error processing /content/drive/MyDrive/PersianFace/Behnam_Bani/Behnam-Bani-38_01.jpg: Face could not be detected in /content/drive/MyDrive/PersianFace/Behnam_Bani/Behnam-Bani-38_01.jpg.Please confirm that the picture is a face photo or consider to set enforce_detection param to False.\n",
            "Error processing /content/drive/MyDrive/PersianFace/Behnam_Bani/Behnam-Bani-47_01.jpg: Face could not be detected in /content/drive/MyDrive/PersianFace/Behnam_Bani/Behnam-Bani-47_01.jpg.Please confirm that the picture is a face photo or consider to set enforce_detection param to False.\n",
            "Error processing /content/drive/MyDrive/PersianFace/Behnam_Bani/Behnam-Bani-99_01.jpg: Face could not be detected in /content/drive/MyDrive/PersianFace/Behnam_Bani/Behnam-Bani-99_01.jpg.Please confirm that the picture is a face photo or consider to set enforce_detection param to False.\n",
            "Error processing /content/drive/MyDrive/PersianFace/Behnam_Bani/Behnam-Bani-35_01.jpg: Face could not be detected in /content/drive/MyDrive/PersianFace/Behnam_Bani/Behnam-Bani-35_01.jpg.Please confirm that the picture is a face photo or consider to set enforce_detection param to False.\n",
            "Error processing /content/drive/MyDrive/PersianFace/Behnam_Bani/Behnam-Bani-98_01.jpg: Face could not be detected in /content/drive/MyDrive/PersianFace/Behnam_Bani/Behnam-Bani-98_01.jpg.Please confirm that the picture is a face photo or consider to set enforce_detection param to False.\n",
            "Error processing /content/drive/MyDrive/PersianFace/Behnam_Bani/Behnam-Bani-34_01.jpg: Face could not be detected in /content/drive/MyDrive/PersianFace/Behnam_Bani/Behnam-Bani-34_01.jpg.Please confirm that the picture is a face photo or consider to set enforce_detection param to False.\n"
          ]
        },
        {
          "name": "stderr",
          "output_type": "stream",
          "text": [
            "\r 22%|██▏       | 8/36 [06:50<30:46, 65.94s/it]"
          ]
        },
        {
          "name": "stdout",
          "output_type": "stream",
          "text": [
            "Error processing /content/drive/MyDrive/PersianFace/Asghar_Farhadi/asgharfarhadikhatere-0.jpg: Face could not be detected in /content/drive/MyDrive/PersianFace/Asghar_Farhadi/asgharfarhadikhatere-0.jpg.Please confirm that the picture is a face photo or consider to set enforce_detection param to False.\n",
            "Error processing /content/drive/MyDrive/PersianFace/Asghar_Farhadi/0tofkbt7fwd6-0.jpg: Face could not be detected in /content/drive/MyDrive/PersianFace/Asghar_Farhadi/0tofkbt7fwd6-0.jpg.Please confirm that the picture is a face photo or consider to set enforce_detection param to False.\n",
            "Error processing /content/drive/MyDrive/PersianFace/Asghar_Farhadi/اصغر+فرهادی-0.jpg: Input image must not have non-english characters - /content/drive/MyDrive/PersianFace/Asghar_Farhadi/اصغر+فرهادی-0.jpg\n",
            "Error processing /content/drive/MyDrive/PersianFace/Asghar_Farhadi/اصغر-فرهادی-2-0.jpg: Input image must not have non-english characters - /content/drive/MyDrive/PersianFace/Asghar_Farhadi/اصغر-فرهادی-2-0.jpg\n",
            "Error processing /content/drive/MyDrive/PersianFace/Asghar_Farhadi/اصغر-فرهادی-0.jpg: Input image must not have non-english characters - /content/drive/MyDrive/PersianFace/Asghar_Farhadi/اصغر-فرهادی-0.jpg\n",
            "Error processing /content/drive/MyDrive/PersianFace/Asghar_Farhadi/58254196_303-0.jpg: Face could not be detected in /content/drive/MyDrive/PersianFace/Asghar_Farhadi/58254196_303-0.jpg.Please confirm that the picture is a face photo or consider to set enforce_detection param to False.\n"
          ]
        },
        {
          "name": "stderr",
          "output_type": "stream",
          "text": [
            "\r 25%|██▌       | 9/36 [08:10<31:10, 69.27s/it]"
          ]
        },
        {
          "name": "stdout",
          "output_type": "stream",
          "text": [
            "Error processing /content/drive/MyDrive/PersianFace/Ebi/file2Fmedia2Fimage2Foriginal2F2223-2-0.jpg: Face could not be detected in /content/drive/MyDrive/PersianFace/Ebi/file2Fmedia2Fimage2Foriginal2F2223-2-0.jpg.Please confirm that the picture is a face photo or consider to set enforce_detection param to False.\n",
            "Error processing /content/drive/MyDrive/PersianFace/Ebi/1593719730_M5kA4-0.jpg: Face could not be detected in /content/drive/MyDrive/PersianFace/Ebi/1593719730_M5kA4-0.jpg.Please confirm that the picture is a face photo or consider to set enforce_detection param to False.\n",
            "Error processing /content/drive/MyDrive/PersianFace/Ebi/9008813-8244-b__5555-0.jpg: Face could not be detected in /content/drive/MyDrive/PersianFace/Ebi/9008813-8244-b__5555-0.jpg.Please confirm that the picture is a face photo or consider to set enforce_detection param to False.\n",
            "Error processing /content/drive/MyDrive/PersianFace/Ebi/Bu3J9avCYAA1juE-0.jpg: Face could not be detected in /content/drive/MyDrive/PersianFace/Ebi/Bu3J9avCYAA1juE-0.jpg.Please confirm that the picture is a face photo or consider to set enforce_detection param to False.\n",
            "Error processing /content/drive/MyDrive/PersianFace/Ebi/Ebi-Nazy-Naz-Kon-Pichak-Live-0.jpg: Face could not be detected in /content/drive/MyDrive/PersianFace/Ebi/Ebi-Nazy-Naz-Kon-Pichak-Live-0.jpg.Please confirm that the picture is a face photo or consider to set enforce_detection param to False.\n",
            "Error processing /content/drive/MyDrive/PersianFace/Ebi/ei_thumb-1.jpg: Face could not be detected in /content/drive/MyDrive/PersianFace/Ebi/ei_thumb-1.jpg.Please confirm that the picture is a face photo or consider to set enforce_detection param to False.\n",
            "Error processing /content/drive/MyDrive/PersianFace/Ebi/_112295165_photo-2020-05-15-17-04-36-4.jpg: Face could not be detected in /content/drive/MyDrive/PersianFace/Ebi/_112295165_photo-2020-05-15-17-04-36-4.jpg.Please confirm that the picture is a face photo or consider to set enforce_detection param to False.\n",
            "Error processing /content/drive/MyDrive/PersianFace/Ebi/ابراهیم-حامدی-8-0.jpg: Input image must not have non-english characters - /content/drive/MyDrive/PersianFace/Ebi/ابراهیم-حامدی-8-0.jpg\n",
            "Error processing /content/drive/MyDrive/PersianFace/Ebi/آهنگ-جدید-ابی-در-مورد-شهدا-و-اسپانسر-قمار-باز-0.jpg: Input image must not have non-english characters - /content/drive/MyDrive/PersianFace/Ebi/آهنگ-جدید-ابی-در-مورد-شهدا-و-اسپانسر-قمار-باز-0.jpg\n",
            "Error processing /content/drive/MyDrive/PersianFace/Ebi/ابی-ebi-0.jpg: Input image must not have non-english characters - /content/drive/MyDrive/PersianFace/Ebi/ابی-ebi-0.jpg\n",
            "Error processing /content/drive/MyDrive/PersianFace/Ebi/ابی-0.jpg: Input image must not have non-english characters - /content/drive/MyDrive/PersianFace/Ebi/ابی-0.jpg\n",
            "Error processing /content/drive/MyDrive/PersianFace/Ebi/ریش-ابی-خواننده-0.jpg: Input image must not have non-english characters - /content/drive/MyDrive/PersianFace/Ebi/ریش-ابی-خواننده-0.jpg\n"
          ]
        },
        {
          "name": "stderr",
          "output_type": "stream",
          "text": [
            "\r 28%|██▊       | 10/36 [08:46<26:24, 60.96s/it]"
          ]
        },
        {
          "name": "stdout",
          "output_type": "stream",
          "text": [
            "Error processing /content/drive/MyDrive/PersianFace/Bahare_Rahnama/maxresdefault-2.jpg: Face could not be detected in /content/drive/MyDrive/PersianFace/Bahare_Rahnama/maxresdefault-2.jpg.Please confirm that the picture is a face photo or consider to set enforce_detection param to False.\n"
          ]
        },
        {
          "name": "stderr",
          "output_type": "stream",
          "text": [
            "\r 31%|███       | 11/36 [09:28<23:17, 55.89s/it]"
          ]
        },
        {
          "name": "stdout",
          "output_type": "stream",
          "text": [
            "Error processing /content/drive/MyDrive/PersianFace/Bahare_Rahnama/بهار4-0.jpg: Input image must not have non-english characters - /content/drive/MyDrive/PersianFace/Bahare_Rahnama/بهار4-0.jpg\n",
            "Error processing /content/drive/MyDrive/PersianFace/Bahare_Rahnama/بهاره+رهنما (1)-0.jpg: Input image must not have non-english characters - /content/drive/MyDrive/PersianFace/Bahare_Rahnama/بهاره+رهنما (1)-0.jpg\n",
            "Error processing /content/drive/MyDrive/PersianFace/Bahare_Rahnama/بهاره+رهنما (2)-0.jpg: Input image must not have non-english characters - /content/drive/MyDrive/PersianFace/Bahare_Rahnama/بهاره+رهنما (2)-0.jpg\n",
            "Error processing /content/drive/MyDrive/PersianFace/Bahare_Rahnama/بهاره+رهنما (4)-0.jpg: Input image must not have non-english characters - /content/drive/MyDrive/PersianFace/Bahare_Rahnama/بهاره+رهنما (4)-0.jpg\n",
            "Error processing /content/drive/MyDrive/PersianFace/Bahare_Rahnama/بهاره+رهنما (5)-1.jpg: Input image must not have non-english characters - /content/drive/MyDrive/PersianFace/Bahare_Rahnama/بهاره+رهنما (5)-1.jpg\n",
            "Error processing /content/drive/MyDrive/PersianFace/Bahare_Rahnama/بهاره+رهنما (6)-2.jpg: Input image must not have non-english characters - /content/drive/MyDrive/PersianFace/Bahare_Rahnama/بهاره+رهنما (6)-2.jpg\n",
            "Error processing /content/drive/MyDrive/PersianFace/Bahare_Rahnama/بهاره+رهنما-0.jpg: Input image must not have non-english characters - /content/drive/MyDrive/PersianFace/Bahare_Rahnama/بهاره+رهنما-0.jpg\n",
            "Error processing /content/drive/MyDrive/PersianFace/Bahare_Rahnama/بهارهرهنما-2-0.jpg: Input image must not have non-english characters - /content/drive/MyDrive/PersianFace/Bahare_Rahnama/بهارهرهنما-2-0.jpg\n",
            "Error processing /content/drive/MyDrive/PersianFace/Bahare_Rahnama/تبلیغات-خود-را-به-بهاره-رهنما-با-عرضه-بسپارید-0.jpg: Input image must not have non-english characters - /content/drive/MyDrive/PersianFace/Bahare_Rahnama/تبلیغات-خود-را-به-بهاره-رهنما-با-عرضه-بسپارید-0.jpg\n",
            "Error processing /content/drive/MyDrive/PersianFace/Bahare_Rahnama/ست-سرخ-خیره-28188-0.jpg: Input image must not have non-english characters - /content/drive/MyDrive/PersianFace/Bahare_Rahnama/ست-سرخ-خیره-28188-0.jpg\n",
            "Error processing /content/drive/MyDrive/PersianFace/Bahare_Rahnama/عکس-خانوادگی-بهاره-رهنما-0.jpg: Input image must not have non-english characters - /content/drive/MyDrive/PersianFace/Bahare_Rahnama/عکس-خانوادگی-بهاره-رهنما-0.jpg\n",
            "Error processing /content/drive/MyDrive/PersianFace/Bahare_Rahnama/عکس-دختر-بهاره-رهنما-1.jpg: Input image must not have non-english characters - /content/drive/MyDrive/PersianFace/Bahare_Rahnama/عکس-دختر-بهاره-رهنما-1.jpg\n",
            "Error processing /content/drive/MyDrive/PersianFace/Bahare_Rahnama/پز-دادن-بهاره-رهنما-استانبول-16106-2.jpg: Input image must not have non-english characters - /content/drive/MyDrive/PersianFace/Bahare_Rahnama/پز-دادن-بهاره-رهنما-استانبول-16106-2.jpg\n",
            "Error processing /content/drive/MyDrive/PersianFace/Ali_Khamenei/Ali-Khamenei-96_01.jpg: Face could not be detected in /content/drive/MyDrive/PersianFace/Ali_Khamenei/Ali-Khamenei-96_01.jpg.Please confirm that the picture is a face photo or consider to set enforce_detection param to False.\n",
            "Error processing /content/drive/MyDrive/PersianFace/Ali_Khamenei/Ali-Khamenei-05_01.jpg: Face could not be detected in /content/drive/MyDrive/PersianFace/Ali_Khamenei/Ali-Khamenei-05_01.jpg.Please confirm that the picture is a face photo or consider to set enforce_detection param to False.\n",
            "Error processing /content/drive/MyDrive/PersianFace/Ali_Khamenei/Ali-Khamenei-53_01.jpg: Face could not be detected in /content/drive/MyDrive/PersianFace/Ali_Khamenei/Ali-Khamenei-53_01.jpg.Please confirm that the picture is a face photo or consider to set enforce_detection param to False.\n",
            "Error processing /content/drive/MyDrive/PersianFace/Ali_Khamenei/Ali-Khamenei-61_01.jpg: Face could not be detected in /content/drive/MyDrive/PersianFace/Ali_Khamenei/Ali-Khamenei-61_01.jpg.Please confirm that the picture is a face photo or consider to set enforce_detection param to False.\n",
            "Error processing /content/drive/MyDrive/PersianFace/Ali_Khamenei/Ali-Khamenei-81_01.jpg: Face could not be detected in /content/drive/MyDrive/PersianFace/Ali_Khamenei/Ali-Khamenei-81_01.jpg.Please confirm that the picture is a face photo or consider to set enforce_detection param to False.\n",
            "Error processing /content/drive/MyDrive/PersianFace/Ali_Khamenei/Ali-Khamenei-02_01.jpg: Face could not be detected in /content/drive/MyDrive/PersianFace/Ali_Khamenei/Ali-Khamenei-02_01.jpg.Please confirm that the picture is a face photo or consider to set enforce_detection param to False.\n",
            "Error processing /content/drive/MyDrive/PersianFace/Ali_Khamenei/Ali-Khamenei-70_01.jpg: Face could not be detected in /content/drive/MyDrive/PersianFace/Ali_Khamenei/Ali-Khamenei-70_01.jpg.Please confirm that the picture is a face photo or consider to set enforce_detection param to False.\n",
            "Error processing /content/drive/MyDrive/PersianFace/Ali_Khamenei/Ali-Khamenei-13_01.jpg: Face could not be detected in /content/drive/MyDrive/PersianFace/Ali_Khamenei/Ali-Khamenei-13_01.jpg.Please confirm that the picture is a face photo or consider to set enforce_detection param to False.\n",
            "Error processing /content/drive/MyDrive/PersianFace/Ali_Khamenei/Ali-Khamenei-12_01.jpg: Face could not be detected in /content/drive/MyDrive/PersianFace/Ali_Khamenei/Ali-Khamenei-12_01.jpg.Please confirm that the picture is a face photo or consider to set enforce_detection param to False.\n",
            "Error processing /content/drive/MyDrive/PersianFace/Ali_Khamenei/Ali-Khamenei-67_01.jpg: Face could not be detected in /content/drive/MyDrive/PersianFace/Ali_Khamenei/Ali-Khamenei-67_01.jpg.Please confirm that the picture is a face photo or consider to set enforce_detection param to False.\n"
          ]
        },
        {
          "name": "stderr",
          "output_type": "stream",
          "text": [
            "\r 33%|███▎      | 12/36 [13:50<45:01, 112.58s/it]"
          ]
        },
        {
          "name": "stdout",
          "output_type": "stream",
          "text": [
            "Error processing /content/drive/MyDrive/PersianFace/Ali_Daei/17338100_303-0.jpg: Face could not be detected in /content/drive/MyDrive/PersianFace/Ali_Daei/17338100_303-0.jpg.Please confirm that the picture is a face photo or consider to set enforce_detection param to False.\n"
          ]
        },
        {
          "name": "stderr",
          "output_type": "stream",
          "text": [
            "\r 36%|███▌      | 13/36 [15:07<39:14, 102.38s/it]"
          ]
        },
        {
          "name": "stdout",
          "output_type": "stream",
          "text": [
            "Error processing /content/drive/MyDrive/PersianFace/Ali_Daei/افشاگری-پشت-پرده-همسر-اول-علی-دایی-کار-شکایت-49943-0.jpg: Input image must not have non-english characters - /content/drive/MyDrive/PersianFace/Ali_Daei/افشاگری-پشت-پرده-همسر-اول-علی-دایی-کار-شکایت-49943-0.jpg\n",
            "Error processing /content/drive/MyDrive/PersianFace/Ali_Daei/دنیز-دختر-علی-دایی-1640635800-0.jpg: Input image must not have non-english characters - /content/drive/MyDrive/PersianFace/Ali_Daei/دنیز-دختر-علی-دایی-1640635800-0.jpg\n",
            "Error processing /content/drive/MyDrive/PersianFace/Ali_Daei/علی+دایی (1)-1.jpg: Input image must not have non-english characters - /content/drive/MyDrive/PersianFace/Ali_Daei/علی+دایی (1)-1.jpg\n",
            "Error processing /content/drive/MyDrive/PersianFace/Ali_Daei/علی+دایی (2)-0.jpg: Input image must not have non-english characters - /content/drive/MyDrive/PersianFace/Ali_Daei/علی+دایی (2)-0.jpg\n",
            "Error processing /content/drive/MyDrive/PersianFace/Ali_Daei/علی-دایی-و-محمدرضا-اخباری-0.jpg: Input image must not have non-english characters - /content/drive/MyDrive/PersianFace/Ali_Daei/علی-دایی-و-محمدرضا-اخباری-0.jpg\n",
            "Error processing /content/drive/MyDrive/PersianFace/Ali_Daei/علی+دایی-0.jpg: Input image must not have non-english characters - /content/drive/MyDrive/PersianFace/Ali_Daei/علی+دایی-0.jpg\n",
            "Error processing /content/drive/MyDrive/PersianFace/Ali_Daei/علی-دایی-چگونه-محکوم-به-اعدام-را-نجات-داد-ویدیو-چرا-به-فریاد-آرمان-عبدالعالی-و-خانواده-اش-نرسیدند-0.jpg: Input image must not have non-english characters - /content/drive/MyDrive/PersianFace/Ali_Daei/علی-دایی-چگونه-محکوم-به-اعدام-را-نجات-داد-ویدیو-چرا-به-فریاد-آرمان-عبدالعالی-و-خانواده-اش-نرسیدند-0.jpg\n",
            "Error processing /content/drive/MyDrive/PersianFace/Dariush_Arjmand/14000228104847864227990510-0.jpg: Face could not be detected in /content/drive/MyDrive/PersianFace/Dariush_Arjmand/14000228104847864227990510-0.jpg.Please confirm that the picture is a face photo or consider to set enforce_detection param to False.\n",
            "Error processing /content/drive/MyDrive/PersianFace/Dariush_Arjmand/18787923-8372-b__6550-0.jpg: Face could not be detected in /content/drive/MyDrive/PersianFace/Dariush_Arjmand/18787923-8372-b__6550-0.jpg.Please confirm that the picture is a face photo or consider to set enforce_detection param to False.\n",
            "Error processing /content/drive/MyDrive/PersianFace/Dariush_Arjmand/322838_237-3.jpg: Face could not be detected in /content/drive/MyDrive/PersianFace/Dariush_Arjmand/322838_237-3.jpg.Please confirm that the picture is a face photo or consider to set enforce_detection param to False.\n",
            "Error processing /content/drive/MyDrive/PersianFace/Dariush_Arjmand/4596131-0.jpg: Face could not be detected in /content/drive/MyDrive/PersianFace/Dariush_Arjmand/4596131-0.jpg.Please confirm that the picture is a face photo or consider to set enforce_detection param to False.\n",
            "Error processing /content/drive/MyDrive/PersianFace/Dariush_Arjmand/www.dustaan.com-مجله-خبری-دوستان-1572171553-10.jpg: Input image must not have non-english characters - /content/drive/MyDrive/PersianFace/Dariush_Arjmand/www.dustaan.com-مجله-خبری-دوستان-1572171553-10.jpg\n",
            "Error processing /content/drive/MyDrive/PersianFace/Dariush_Arjmand/داریوش+ارجمند (1)-0.jpg: Input image must not have non-english characters - /content/drive/MyDrive/PersianFace/Dariush_Arjmand/داریوش+ارجمند (1)-0.jpg\n",
            "Error processing /content/drive/MyDrive/PersianFace/Dariush_Arjmand/داریوش+ارجمند (2)-0.jpg: Input image must not have non-english characters - /content/drive/MyDrive/PersianFace/Dariush_Arjmand/داریوش+ارجمند (2)-0.jpg\n",
            "Error processing /content/drive/MyDrive/PersianFace/Dariush_Arjmand/داریوش+ارجمند+ماه+چهره+خلیلی+-0.jpg: Input image must not have non-english characters - /content/drive/MyDrive/PersianFace/Dariush_Arjmand/داریوش+ارجمند+ماه+چهره+خلیلی+-0.jpg\n",
            "Error processing /content/drive/MyDrive/PersianFace/Dariush_Arjmand/داریوش-ارجمند-1-1.jpg: Input image must not have non-english characters - /content/drive/MyDrive/PersianFace/Dariush_Arjmand/داریوش-ارجمند-1-1.jpg\n",
            "Error processing /content/drive/MyDrive/PersianFace/Dariush_Arjmand/سر_صحنه_فیلم_رئیس_مسعود_کیمیایی_با_داریوش_ارجمند-1.jpg: Input image must not have non-english characters - /content/drive/MyDrive/PersianFace/Dariush_Arjmand/سر_صحنه_فیلم_رئیس_مسعود_کیمیایی_با_داریوش_ارجمند-1.jpg\n",
            "Error processing /content/drive/MyDrive/PersianFace/Dariush_Arjmand/عکس-داریوش-ارجمند-در-کنار-همسر-و-پسرش-1.jpg: Input image must not have non-english characters - /content/drive/MyDrive/PersianFace/Dariush_Arjmand/عکس-داریوش-ارجمند-در-کنار-همسر-و-پسرش-1.jpg\n",
            "Error processing /content/drive/MyDrive/PersianFace/Dariush_Arjmand/عکس-داریوش-ارجمند-و-نوه-اش-1.jpg: Input image must not have non-english characters - /content/drive/MyDrive/PersianFace/Dariush_Arjmand/عکس-داریوش-ارجمند-و-نوه-اش-1.jpg\n",
            "Error processing /content/drive/MyDrive/PersianFace/Dariush_Arjmand/عکس-متفاوت-داریوش-ارجمند-0.jpg: Input image must not have non-english characters - /content/drive/MyDrive/PersianFace/Dariush_Arjmand/عکس-متفاوت-داریوش-ارجمند-0.jpg\n",
            "Error processing /content/drive/MyDrive/PersianFace/Dariush_Arjmand/ac-image-v91627145644ee-0.jpg: Face could not be detected in /content/drive/MyDrive/PersianFace/Dariush_Arjmand/ac-image-v91627145644ee-0.jpg.Please confirm that the picture is a face photo or consider to set enforce_detection param to False.\n"
          ]
        },
        {
          "name": "stderr",
          "output_type": "stream",
          "text": [
            "\r 39%|███▉      | 14/36 [16:04<32:48, 89.50s/it] "
          ]
        },
        {
          "name": "stdout",
          "output_type": "stream",
          "text": [
            "Error processing /content/drive/MyDrive/PersianFace/Adel_FerdowsiPour/109924-0.jpg: Face could not be detected in /content/drive/MyDrive/PersianFace/Adel_FerdowsiPour/109924-0.jpg.Please confirm that the picture is a face photo or consider to set enforce_detection param to False.\n",
            "Error processing /content/drive/MyDrive/PersianFace/Adel_FerdowsiPour/عادل+فردوسی+پور (1)-0.jpg: Input image must not have non-english characters - /content/drive/MyDrive/PersianFace/Adel_FerdowsiPour/عادل+فردوسی+پور (1)-0.jpg\n",
            "Error processing /content/drive/MyDrive/PersianFace/Adel_FerdowsiPour/عادل+فردوسی+پور (2)-0.jpg: Input image must not have non-english characters - /content/drive/MyDrive/PersianFace/Adel_FerdowsiPour/عادل+فردوسی+پور (2)-0.jpg\n",
            "Error processing /content/drive/MyDrive/PersianFace/Adel_FerdowsiPour/عادل+فردوسی+پور-0.jpg: Input image must not have non-english characters - /content/drive/MyDrive/PersianFace/Adel_FerdowsiPour/عادل+فردوسی+پور-0.jpg\n",
            "Error processing /content/drive/MyDrive/PersianFace/Adel_FerdowsiPour/عادل+فردوسی+پور (3)-0.jpg: Input image must not have non-english characters - /content/drive/MyDrive/PersianFace/Adel_FerdowsiPour/عادل+فردوسی+پور (3)-0.jpg\n",
            "Error processing /content/drive/MyDrive/PersianFace/Adel_FerdowsiPour/عادل+فردوسی_پور-0.jpg: Input image must not have non-english characters - /content/drive/MyDrive/PersianFace/Adel_FerdowsiPour/عادل+فردوسی_پور-0.jpg\n",
            "Error processing /content/drive/MyDrive/PersianFace/Adel_FerdowsiPour/عادل-فردوسی-پور (3)-1.jpg: Input image must not have non-english characters - /content/drive/MyDrive/PersianFace/Adel_FerdowsiPour/عادل-فردوسی-پور (3)-1.jpg\n",
            "Error processing /content/drive/MyDrive/PersianFace/Adel_FerdowsiPour/عادل-فردوسی-پور (5)-0.jpg: Input image must not have non-english characters - /content/drive/MyDrive/PersianFace/Adel_FerdowsiPour/عادل-فردوسی-پور (5)-0.jpg\n",
            "Error processing /content/drive/MyDrive/PersianFace/Adel_FerdowsiPour/عادل-فردوسی-پور (6)-0.jpg: Input image must not have non-english characters - /content/drive/MyDrive/PersianFace/Adel_FerdowsiPour/عادل-فردوسی-پور (6)-0.jpg\n",
            "Error processing /content/drive/MyDrive/PersianFace/Adel_FerdowsiPour/عادل-فردوسی-پور-0.jpg: Input image must not have non-english characters - /content/drive/MyDrive/PersianFace/Adel_FerdowsiPour/عادل-فردوسی-پور-0.jpg\n",
            "Error processing /content/drive/MyDrive/PersianFace/Adel_FerdowsiPour/عادل-فردوسی-پور (7)-0.jpg: Input image must not have non-english characters - /content/drive/MyDrive/PersianFace/Adel_FerdowsiPour/عادل-فردوسی-پور (7)-0.jpg\n",
            "Error processing /content/drive/MyDrive/PersianFace/Adel_FerdowsiPour/عادل-1.jpg: Input image must not have non-english characters - /content/drive/MyDrive/PersianFace/Adel_FerdowsiPour/عادل-1.jpg\n",
            "Error processing /content/drive/MyDrive/PersianFace/Adel_FerdowsiPour/پروژه-جدید-عادل-فردوسی-پور-لو-40189-0.jpg: Input image must not have non-english characters - /content/drive/MyDrive/PersianFace/Adel_FerdowsiPour/پروژه-جدید-عادل-فردوسی-پور-لو-40189-0.jpg\n"
          ]
        },
        {
          "name": "stderr",
          "output_type": "stream",
          "text": [
            " 44%|████▍     | 16/36 [18:17<25:39, 76.98s/it]"
          ]
        },
        {
          "name": "stdout",
          "output_type": "stream",
          "text": [
            "Error processing /content/drive/MyDrive/PersianFace/Elham_Hamidi/320735811629964987-0.jpg: Face could not be detected in /content/drive/MyDrive/PersianFace/Elham_Hamidi/320735811629964987-0.jpg.Please confirm that the picture is a face photo or consider to set enforce_detection param to False.\n",
            "Error processing /content/drive/MyDrive/PersianFace/Elham_Hamidi/elham hamidi 2-0.jpg: Face could not be detected in /content/drive/MyDrive/PersianFace/Elham_Hamidi/elham hamidi 2-0.jpg.Please confirm that the picture is a face photo or consider to set enforce_detection param to False.\n"
          ]
        },
        {
          "name": "stderr",
          "output_type": "stream",
          "text": [
            "\r 47%|████▋     | 17/36 [19:23<23:20, 73.73s/it]"
          ]
        },
        {
          "name": "stdout",
          "output_type": "stream",
          "text": [
            "Error processing /content/drive/MyDrive/PersianFace/Elham_Hamidi/nody-عکس-بچه-الهام-حمیدی-1626726934-0.jpg: Input image must not have non-english characters - /content/drive/MyDrive/PersianFace/Elham_Hamidi/nody-عکس-بچه-الهام-حمیدی-1626726934-0.jpg\n",
            "Error processing /content/drive/MyDrive/PersianFace/Elham_Hamidi/الهام+حمیدی (1)-0.jpg: Input image must not have non-english characters - /content/drive/MyDrive/PersianFace/Elham_Hamidi/الهام+حمیدی (1)-0.jpg\n",
            "Error processing /content/drive/MyDrive/PersianFace/Elham_Hamidi/الهام+حمیدی (2)-0.jpg: Input image must not have non-english characters - /content/drive/MyDrive/PersianFace/Elham_Hamidi/الهام+حمیدی (2)-0.jpg\n",
            "Error processing /content/drive/MyDrive/PersianFace/Elham_Hamidi/الهام+حمیدی (3)-0.jpg: Input image must not have non-english characters - /content/drive/MyDrive/PersianFace/Elham_Hamidi/الهام+حمیدی (3)-0.jpg\n",
            "Error processing /content/drive/MyDrive/PersianFace/Elham_Hamidi/الهام+حمیدی (4s)-0.jpg: Input image must not have non-english characters - /content/drive/MyDrive/PersianFace/Elham_Hamidi/الهام+حمیدی (4s)-0.jpg\n",
            "Error processing /content/drive/MyDrive/PersianFace/Elham_Hamidi/الهام+حمیدی+(1)-0.jpg: Input image must not have non-english characters - /content/drive/MyDrive/PersianFace/Elham_Hamidi/الهام+حمیدی+(1)-0.jpg\n",
            "Error processing /content/drive/MyDrive/PersianFace/Elham_Hamidi/الهام+حمیدی+-0.jpg: Input image must not have non-english characters - /content/drive/MyDrive/PersianFace/Elham_Hamidi/الهام+حمیدی+-0.jpg\n",
            "Error processing /content/drive/MyDrive/PersianFace/Elham_Hamidi/الهام+حمیدی-0.jpg: Input image must not have non-english characters - /content/drive/MyDrive/PersianFace/Elham_Hamidi/الهام+حمیدی-0.jpg\n",
            "Error processing /content/drive/MyDrive/PersianFace/Elham_Hamidi/الهام-حمیدی-1-0.jpg: Input image must not have non-english characters - /content/drive/MyDrive/PersianFace/Elham_Hamidi/الهام-حمیدی-1-0.jpg\n",
            "Error processing /content/drive/MyDrive/PersianFace/Elham_Hamidi/الهام-حمیدی-1-600x395-0.jpg: Input image must not have non-english characters - /content/drive/MyDrive/PersianFace/Elham_Hamidi/الهام-حمیدی-1-600x395-0.jpg\n",
            "Error processing /content/drive/MyDrive/PersianFace/Elham_Hamidi/الهام-حمیدی-و-همسرش (1)-0.jpg: Input image must not have non-english characters - /content/drive/MyDrive/PersianFace/Elham_Hamidi/الهام-حمیدی-و-همسرش (1)-0.jpg\n",
            "Error processing /content/drive/MyDrive/PersianFace/Elham_Hamidi/الهام-حمیدی-و-همسرش-1.jpg: Input image must not have non-english characters - /content/drive/MyDrive/PersianFace/Elham_Hamidi/الهام-حمیدی-و-همسرش-1.jpg\n",
            "Error processing /content/drive/MyDrive/PersianFace/Elham_Hamidi/الهام-حمیدی-و-همسرش2-1.jpg: Input image must not have non-english characters - /content/drive/MyDrive/PersianFace/Elham_Hamidi/الهام-حمیدی-و-همسرش2-1.jpg\n",
            "Error processing /content/drive/MyDrive/PersianFace/Elham_Hamidi/الهامحمیدی-1005x1024-0.jpg: Input image must not have non-english characters - /content/drive/MyDrive/PersianFace/Elham_Hamidi/الهامحمیدی-1005x1024-0.jpg\n",
            "Error processing /content/drive/MyDrive/PersianFace/Elham_Hamidi/بیوگرافی-و-عکس-های-جدید-الهام-حمیدی-0.jpg: Input image must not have non-english characters - /content/drive/MyDrive/PersianFace/Elham_Hamidi/بیوگرافی-و-عکس-های-جدید-الهام-حمیدی-0.jpg\n",
            "Error processing /content/drive/MyDrive/PersianFace/Elham_Hamidi/زندگینامه-الهام-حمیدی-0.jpg: Input image must not have non-english characters - /content/drive/MyDrive/PersianFace/Elham_Hamidi/زندگینامه-الهام-حمیدی-0.jpg\n",
            "Error processing /content/drive/MyDrive/PersianFace/Elham_Hamidi/فرزند-الهام-حمیدی-25-0.jpg: Input image must not have non-english characters - /content/drive/MyDrive/PersianFace/Elham_Hamidi/فرزند-الهام-حمیدی-25-0.jpg\n",
            "Error processing /content/drive/MyDrive/PersianFace/Elham_Hamidi/نیکی-کریمی-و-الهام-حمیدی-0.jpg: Input image must not have non-english characters - /content/drive/MyDrive/PersianFace/Elham_Hamidi/نیکی-کریمی-و-الهام-حمیدی-0.jpg\n",
            "Error processing /content/drive/MyDrive/PersianFace/Elnaz_Shakerdoost/++الناز+شاکردوست-0.jpg: Input image must not have non-english characters - /content/drive/MyDrive/PersianFace/Elnaz_Shakerdoost/++الناز+شاکردوست-0.jpg\n",
            "Error processing /content/drive/MyDrive/PersianFace/Elnaz_Shakerdoost/aras.ir-الناز-شاکردوست-5-0.jpg: Input image must not have non-english characters - /content/drive/MyDrive/PersianFace/Elnaz_Shakerdoost/aras.ir-الناز-شاکردوست-5-0.jpg\n",
            "Error processing /content/drive/MyDrive/PersianFace/Elnaz_Shakerdoost/nody-عکسهای-الناز-شاکردوست-بی-حجاب-1634009119-1.jpg: Input image must not have non-english characters - /content/drive/MyDrive/PersianFace/Elnaz_Shakerdoost/nody-عکسهای-الناز-شاکردوست-بی-حجاب-1634009119-1.jpg\n",
            "Error processing /content/drive/MyDrive/PersianFace/Elnaz_Shakerdoost/photo_۲۰۲۱-۰۵-۲۰_۱۱-۲۶-۴۷-0.jpg: Input image must not have non-english characters - /content/drive/MyDrive/PersianFace/Elnaz_Shakerdoost/photo_۲۰۲۱-۰۵-۲۰_۱۱-۲۶-۴۷-0.jpg\n"
          ]
        },
        {
          "name": "stderr",
          "output_type": "stream",
          "text": [
            "\r 50%|█████     | 18/36 [20:07<19:28, 64.94s/it]"
          ]
        },
        {
          "name": "stdout",
          "output_type": "stream",
          "text": [
            "Error processing /content/drive/MyDrive/PersianFace/Elnaz_Shakerdoost/الناز+شاکردوست (1)-0.jpg: Input image must not have non-english characters - /content/drive/MyDrive/PersianFace/Elnaz_Shakerdoost/الناز+شاکردوست (1)-0.jpg\n",
            "Error processing /content/drive/MyDrive/PersianFace/Elnaz_Shakerdoost/الناز+شاکردوست (2)-0.jpg: Input image must not have non-english characters - /content/drive/MyDrive/PersianFace/Elnaz_Shakerdoost/الناز+شاکردوست (2)-0.jpg\n",
            "Error processing /content/drive/MyDrive/PersianFace/Elnaz_Shakerdoost/الناز+شاکردوست-0.jpg: Input image must not have non-english characters - /content/drive/MyDrive/PersianFace/Elnaz_Shakerdoost/الناز+شاکردوست-0.jpg\n",
            "Error processing /content/drive/MyDrive/PersianFace/Elnaz_Shakerdoost/الناز-شاکردوست (1)-0.jpg: Input image must not have non-english characters - /content/drive/MyDrive/PersianFace/Elnaz_Shakerdoost/الناز-شاکردوست (1)-0.jpg\n",
            "Error processing /content/drive/MyDrive/PersianFace/Elnaz_Shakerdoost/الناز-شاکردوست-بیوگرافی-و-عکسهایش-1-0.jpg: Input image must not have non-english characters - /content/drive/MyDrive/PersianFace/Elnaz_Shakerdoost/الناز-شاکردوست-بیوگرافی-و-عکسهایش-1-0.jpg\n",
            "Error processing /content/drive/MyDrive/PersianFace/Elnaz_Shakerdoost/الناز-شاکردوست-و-حمید-گودرزی-1.jpg: Input image must not have non-english characters - /content/drive/MyDrive/PersianFace/Elnaz_Shakerdoost/الناز-شاکردوست-و-حمید-گودرزی-1.jpg\n",
            "Error processing /content/drive/MyDrive/PersianFace/Elnaz_Shakerdoost/جوایز-و-افتخارات-الناز-شاکردوست-0.jpg: Input image must not have non-english characters - /content/drive/MyDrive/PersianFace/Elnaz_Shakerdoost/جوایز-و-افتخارات-الناز-شاکردوست-0.jpg\n",
            "Error processing /content/drive/MyDrive/PersianFace/Leyla_Hatami/Leyla-Hatami-98_01.jpg: Face could not be detected in /content/drive/MyDrive/PersianFace/Leyla_Hatami/Leyla-Hatami-98_01.jpg.Please confirm that the picture is a face photo or consider to set enforce_detection param to False.\n"
          ]
        },
        {
          "name": "stderr",
          "output_type": "stream",
          "text": [
            "\r 53%|█████▎    | 19/36 [23:22<29:22, 103.67s/it]"
          ]
        },
        {
          "name": "stdout",
          "output_type": "stream",
          "text": [
            "Error processing /content/drive/MyDrive/PersianFace/Mehran_Ghafourian/مهران+مدیری،+جواد+رضویان،+سیامک+انصاری+و+مهران+غفوریان-2.jpg: Input image must not have non-english characters - /content/drive/MyDrive/PersianFace/Mehran_Ghafourian/مهران+مدیری،+جواد+رضویان،+سیامک+انصاری+و+مهران+غفوریان-2.jpg\n",
            "Error processing /content/drive/MyDrive/PersianFace/Mehran_Ghafourian/310189_737-0.jpg: Face could not be detected in /content/drive/MyDrive/PersianFace/Mehran_Ghafourian/310189_737-0.jpg.Please confirm that the picture is a face photo or consider to set enforce_detection param to False.\n",
            "Error processing /content/drive/MyDrive/PersianFace/Mehran_Ghafourian/3305179_635-0.jpg: Face could not be detected in /content/drive/MyDrive/PersianFace/Mehran_Ghafourian/3305179_635-0.jpg.Please confirm that the picture is a face photo or consider to set enforce_detection param to False.\n",
            "Error processing /content/drive/MyDrive/PersianFace/Mehran_Ghafourian/434840_266-2.jpg: Face could not be detected in /content/drive/MyDrive/PersianFace/Mehran_Ghafourian/434840_266-2.jpg.Please confirm that the picture is a face photo or consider to set enforce_detection param to False.\n"
          ]
        },
        {
          "name": "stderr",
          "output_type": "stream",
          "text": [
            "\r 56%|█████▌    | 20/36 [24:12<23:20, 87.52s/it] "
          ]
        },
        {
          "name": "stdout",
          "output_type": "stream",
          "text": [
            "Error processing /content/drive/MyDrive/PersianFace/Mehran_Ghafourian/Photo_1608010554274-1.jpg: Face could not be detected in /content/drive/MyDrive/PersianFace/Mehran_Ghafourian/Photo_1608010554274-1.jpg.Please confirm that the picture is a face photo or consider to set enforce_detection param to False.\n",
            "Error processing /content/drive/MyDrive/PersianFace/Mehran_Ghafourian/بیوگرافی-مهران-غفوریان-0.jpg: Input image must not have non-english characters - /content/drive/MyDrive/PersianFace/Mehran_Ghafourian/بیوگرافی-مهران-غفوریان-0.jpg\n",
            "Error processing /content/drive/MyDrive/PersianFace/Mehran_Ghafourian/جنجالی-شدن-عکس-کریسمسی-مهران-غفوریان-کنار-بابا-نوئل-63170-1.jpg: Input image must not have non-english characters - /content/drive/MyDrive/PersianFace/Mehran_Ghafourian/جنجالی-شدن-عکس-کریسمسی-مهران-غفوریان-کنار-بابا-نوئل-63170-1.jpg\n",
            "Error processing /content/drive/MyDrive/PersianFace/Mehran_Ghafourian/مهران+غفوریان (1)-1.jpg: Input image must not have non-english characters - /content/drive/MyDrive/PersianFace/Mehran_Ghafourian/مهران+غفوریان (1)-1.jpg\n",
            "Error processing /content/drive/MyDrive/PersianFace/Mehran_Ghafourian/مهران+غفوریان (2)-0.jpg: Input image must not have non-english characters - /content/drive/MyDrive/PersianFace/Mehran_Ghafourian/مهران+غفوریان (2)-0.jpg\n",
            "Error processing /content/drive/MyDrive/PersianFace/Mehran_Ghafourian/مهران+غفوریان (4)-0.jpg: Input image must not have non-english characters - /content/drive/MyDrive/PersianFace/Mehran_Ghafourian/مهران+غفوریان (4)-0.jpg\n",
            "Error processing /content/drive/MyDrive/PersianFace/Mehran_Ghafourian/مهران+غفوریان+-2.jpg: Input image must not have non-english characters - /content/drive/MyDrive/PersianFace/Mehran_Ghafourian/مهران+غفوریان+-2.jpg\n",
            "Error processing /content/drive/MyDrive/PersianFace/Mehran_Ghafourian/کفتربازی-مهران-غفوریان--غفوریان-نقش-کامبیز-باغی-38086-0.jpg: Input image must not have non-english characters - /content/drive/MyDrive/PersianFace/Mehran_Ghafourian/کفتربازی-مهران-غفوریان--غفوریان-نقش-کامبیز-باغی-38086-0.jpg\n",
            "Error processing /content/drive/MyDrive/PersianFace/Mahnaz_Afshar/116642807_116793190121794_4323068666237203778_n-0.jpg: Face could not be detected in /content/drive/MyDrive/PersianFace/Mahnaz_Afshar/116642807_116793190121794_4323068666237203778_n-0.jpg.Please confirm that the picture is a face photo or consider to set enforce_detection param to False.\n",
            "Error processing /content/drive/MyDrive/PersianFace/Mahnaz_Afshar/659537_571-0.jpg: Face could not be detected in /content/drive/MyDrive/PersianFace/Mahnaz_Afshar/659537_571-0.jpg.Please confirm that the picture is a face photo or consider to set enforce_detection param to False.\n"
          ]
        },
        {
          "name": "stderr",
          "output_type": "stream",
          "text": [
            "\r 58%|█████▊    | 21/36 [25:15<20:05, 80.35s/it]"
          ]
        },
        {
          "name": "stdout",
          "output_type": "stream",
          "text": [
            "Error processing /content/drive/MyDrive/PersianFace/Mahnaz_Afshar/خودنمایی-مهناز-افشار-لباس-47024-0.jpg: Input image must not have non-english characters - /content/drive/MyDrive/PersianFace/Mahnaz_Afshar/خودنمایی-مهناز-افشار-لباس-47024-0.jpg\n",
            "Error processing /content/drive/MyDrive/PersianFace/Mahnaz_Afshar/عمل-زیبایی-مهناز-افشار-آلمان--32170-0.jpg: Input image must not have non-english characters - /content/drive/MyDrive/PersianFace/Mahnaz_Afshar/عمل-زیبایی-مهناز-افشار-آلمان--32170-0.jpg\n",
            "Error processing /content/drive/MyDrive/PersianFace/Mahnaz_Afshar/مهناز+افشار (1)-0.jpg: Input image must not have non-english characters - /content/drive/MyDrive/PersianFace/Mahnaz_Afshar/مهناز+افشار (1)-0.jpg\n",
            "Error processing /content/drive/MyDrive/PersianFace/Mahnaz_Afshar/مهناز+افشار (1)-1.jpg: Input image must not have non-english characters - /content/drive/MyDrive/PersianFace/Mahnaz_Afshar/مهناز+افشار (1)-1.jpg\n",
            "Error processing /content/drive/MyDrive/PersianFace/Mahnaz_Afshar/مهناز+افشار (1)-2.jpg: Input image must not have non-english characters - /content/drive/MyDrive/PersianFace/Mahnaz_Afshar/مهناز+افشار (1)-2.jpg\n",
            "Error processing /content/drive/MyDrive/PersianFace/Mahnaz_Afshar/مهناز+افشار+-0.jpg: Input image must not have non-english characters - /content/drive/MyDrive/PersianFace/Mahnaz_Afshar/مهناز+افشار+-0.jpg\n",
            "Error processing /content/drive/MyDrive/PersianFace/Mahnaz_Afshar/مهناز+افشار-1.jpg: Input image must not have non-english characters - /content/drive/MyDrive/PersianFace/Mahnaz_Afshar/مهناز+افشار-1.jpg\n",
            "Error processing /content/drive/MyDrive/PersianFace/Mahnaz_Afshar/مهنازافشار-1-0.jpg: Input image must not have non-english characters - /content/drive/MyDrive/PersianFace/Mahnaz_Afshar/مهنازافشار-1-0.jpg\n",
            "Error processing /content/drive/MyDrive/PersianFace/Mahnaz_Afshar/پیمان-معادی-و-مهناز-افشار-عکس-1.jpg: Input image must not have non-english characters - /content/drive/MyDrive/PersianFace/Mahnaz_Afshar/پیمان-معادی-و-مهناز-افشار-عکس-1.jpg\n",
            "Error processing /content/drive/MyDrive/PersianFace/Javad_Khiabani/283433_193-5.jpg: Face could not be detected in /content/drive/MyDrive/PersianFace/Javad_Khiabani/283433_193-5.jpg.Please confirm that the picture is a face photo or consider to set enforce_detection param to False.\n",
            "Error processing /content/drive/MyDrive/PersianFace/Javad_Khiabani/Javad_Khiabani-6-1.jpg: Face could not be detected in /content/drive/MyDrive/PersianFace/Javad_Khiabani/Javad_Khiabani-6-1.jpg.Please confirm that the picture is a face photo or consider to set enforce_detection param to False.\n",
            "Error processing /content/drive/MyDrive/PersianFace/Javad_Khiabani/maxresdefault (1)-1.jpg: Face could not be detected in /content/drive/MyDrive/PersianFace/Javad_Khiabani/maxresdefault (1)-1.jpg.Please confirm that the picture is a face photo or consider to set enforce_detection param to False.\n",
            "Error processing /content/drive/MyDrive/PersianFace/Javad_Khiabani/nody-بیوگرافی-جواد-خیابانی-1626891629-0.jpg: Input image must not have non-english characters - /content/drive/MyDrive/PersianFace/Javad_Khiabani/nody-بیوگرافی-جواد-خیابانی-1626891629-0.jpg\n",
            "Error processing /content/drive/MyDrive/PersianFace/Javad_Khiabani/nody-عکس-جواد-خیابانی-و-همسرش-1625672060-1.jpg: Input image must not have non-english characters - /content/drive/MyDrive/PersianFace/Javad_Khiabani/nody-عکس-جواد-خیابانی-و-همسرش-1625672060-1.jpg\n",
            "Error processing /content/drive/MyDrive/PersianFace/Javad_Khiabani/جواد+خیابانی (1)-0.jpg: Input image must not have non-english characters - /content/drive/MyDrive/PersianFace/Javad_Khiabani/جواد+خیابانی (1)-0.jpg\n",
            "Error processing /content/drive/MyDrive/PersianFace/Javad_Khiabani/جواد+خیابانی-0.jpg: Input image must not have non-english characters - /content/drive/MyDrive/PersianFace/Javad_Khiabani/جواد+خیابانی-0.jpg\n",
            "Error processing /content/drive/MyDrive/PersianFace/Javad_Khiabani/جواد-خیابانی-در-خندوانه-2.jpg: Input image must not have non-english characters - /content/drive/MyDrive/PersianFace/Javad_Khiabani/جواد-خیابانی-در-خندوانه-2.jpg\n",
            "Error processing /content/drive/MyDrive/PersianFace/Javad_Khiabani/جواد-خیابانی-0.jpg: Input image must not have non-english characters - /content/drive/MyDrive/PersianFace/Javad_Khiabani/جواد-خیابانی-0.jpg\n",
            "Error processing /content/drive/MyDrive/PersianFace/Javad_Khiabani/زندگینامه-جواد-خیابانی-0.jpg: Input image must not have non-english characters - /content/drive/MyDrive/PersianFace/Javad_Khiabani/زندگینامه-جواد-خیابانی-0.jpg\n",
            "Error processing /content/drive/MyDrive/PersianFace/Javad_Khiabani/عکس-جواد-خیابانی-0.jpg: Input image must not have non-english characters - /content/drive/MyDrive/PersianFace/Javad_Khiabani/عکس-جواد-خیابانی-0.jpg\n",
            "Error processing /content/drive/MyDrive/PersianFace/Javad_Khiabani/وصیت-نامه-پنهانی-جواد-خیابانی--عکس-75663-0.jpg: Input image must not have non-english characters - /content/drive/MyDrive/PersianFace/Javad_Khiabani/وصیت-نامه-پنهانی-جواد-خیابانی--عکس-75663-0.jpg\n",
            "Error processing /content/drive/MyDrive/PersianFace/Javad_Khiabani/hashiye_va_havashi_1630751657-0.jpg: Face could not be detected in /content/drive/MyDrive/PersianFace/Javad_Khiabani/hashiye_va_havashi_1630751657-0.jpg.Please confirm that the picture is a face photo or consider to set enforce_detection param to False.\n"
          ]
        },
        {
          "name": "stderr",
          "output_type": "stream",
          "text": [
            "\r 61%|██████    | 22/36 [26:17<17:26, 74.74s/it]"
          ]
        },
        {
          "name": "stdout",
          "output_type": "stream",
          "text": [
            "Error processing /content/drive/MyDrive/PersianFace/Javad_Razavian/maxresdefault (3)-1.jpg: Face could not be detected in /content/drive/MyDrive/PersianFace/Javad_Razavian/maxresdefault (3)-1.jpg.Please confirm that the picture is a face photo or consider to set enforce_detection param to False.\n",
            "Error processing /content/drive/MyDrive/PersianFace/Javad_Razavian/sjvrzv-pedar-photokade-2-0.jpg: Face could not be detected in /content/drive/MyDrive/PersianFace/Javad_Razavian/sjvrzv-pedar-photokade-2-0.jpg.Please confirm that the picture is a face photo or consider to set enforce_detection param to False.\n",
            "Error processing /content/drive/MyDrive/PersianFace/Javad_Razavian/بیوگرافی-سید-جواد-رضویان-به-همراه-عکس-ه-13-0.jpg: Input image must not have non-english characters - /content/drive/MyDrive/PersianFace/Javad_Razavian/بیوگرافی-سید-جواد-رضویان-به-همراه-عکس-ه-13-0.jpg\n",
            "Error processing /content/drive/MyDrive/PersianFace/Javad_Razavian/جواد+رضویان (1)-0.jpg: Input image must not have non-english characters - /content/drive/MyDrive/PersianFace/Javad_Razavian/جواد+رضویان (1)-0.jpg\n",
            "Error processing /content/drive/MyDrive/PersianFace/Javad_Razavian/جواد+رضویان-0.jpg: Input image must not have non-english characters - /content/drive/MyDrive/PersianFace/Javad_Razavian/جواد+رضویان-0.jpg\n",
            "Error processing /content/drive/MyDrive/PersianFace/Javad_Razavian/جواد-رضویان-و-الهام-پاوه-نژاد-1.jpg: Input image must not have non-english characters - /content/drive/MyDrive/PersianFace/Javad_Razavian/جواد-رضویان-و-الهام-پاوه-نژاد-1.jpg\n",
            "Error processing /content/drive/MyDrive/PersianFace/Javad_Razavian/جواد-رضویان-و-محمدرضا-گلزار-1.jpg: Input image must not have non-english characters - /content/drive/MyDrive/PersianFace/Javad_Razavian/جواد-رضویان-و-محمدرضا-گلزار-1.jpg\n",
            "Error processing /content/drive/MyDrive/PersianFace/Javad_Razavian/جواد-رضویان-و-هومن-حاج-عبداللهی-2.jpg: Input image must not have non-english characters - /content/drive/MyDrive/PersianFace/Javad_Razavian/جواد-رضویان-و-هومن-حاج-عبداللهی-2.jpg\n",
            "Error processing /content/drive/MyDrive/PersianFace/Javad_Razavian/رضا-شفیعی-جم-و-جواد-رضویان-0.jpg: Input image must not have non-english characters - /content/drive/MyDrive/PersianFace/Javad_Razavian/رضا-شفیعی-جم-و-جواد-رضویان-0.jpg\n",
            "Error processing /content/drive/MyDrive/PersianFace/Javad_Razavian/جواد-رضویان-0.jpg: Input image must not have non-english characters - /content/drive/MyDrive/PersianFace/Javad_Razavian/جواد-رضویان-0.jpg\n",
            "Error processing /content/drive/MyDrive/PersianFace/Javad_Razavian/مهران+مدیری،+جواد+رضویان،+سیامک+انصاری+و+مهران+غفوریان-1.jpg: Input image must not have non-english characters - /content/drive/MyDrive/PersianFace/Javad_Razavian/مهران+مدیری،+جواد+رضویان،+سیامک+انصاری+و+مهران+غفوریان-1.jpg\n",
            "Error processing /content/drive/MyDrive/PersianFace/Javad_Razavian/46dbf513c2b3d11332a68ff1d035c7dd-1.jpg: Face could not be detected in /content/drive/MyDrive/PersianFace/Javad_Razavian/46dbf513c2b3d11332a68ff1d035c7dd-1.jpg.Please confirm that the picture is a face photo or consider to set enforce_detection param to False.\n"
          ]
        },
        {
          "name": "stderr",
          "output_type": "stream",
          "text": [
            "\r 64%|██████▍   | 23/36 [27:18<15:16, 70.49s/it]"
          ]
        },
        {
          "name": "stdout",
          "output_type": "stream",
          "text": [
            "Error processing /content/drive/MyDrive/PersianFace/Javad_Razavian/جواد+رضویان+و+سیامک+انصاری-0.jpg: Input image must not have non-english characters - /content/drive/MyDrive/PersianFace/Javad_Razavian/جواد+رضویان+و+سیامک+انصاری-0.jpg\n",
            "Error processing /content/drive/MyDrive/PersianFace/Hootan_Shakiba/58.png: Face could not be detected in /content/drive/MyDrive/PersianFace/Hootan_Shakiba/58.png.Please confirm that the picture is a face photo or consider to set enforce_detection param to False.\n",
            "Error processing /content/drive/MyDrive/PersianFace/Hootan_Shakiba/40.png: Face could not be detected in /content/drive/MyDrive/PersianFace/Hootan_Shakiba/40.png.Please confirm that the picture is a face photo or consider to set enforce_detection param to False.\n"
          ]
        },
        {
          "name": "stderr",
          "output_type": "stream",
          "text": [
            "\r 67%|██████▋   | 24/36 [30:46<22:21, 111.82s/it]"
          ]
        },
        {
          "name": "stdout",
          "output_type": "stream",
          "text": [
            "Error processing /content/drive/MyDrive/PersianFace/Hamid_Lolaei/photo-hamid-lolaei-2-2.jpg: Face could not be detected in /content/drive/MyDrive/PersianFace/Hamid_Lolaei/photo-hamid-lolaei-2-2.jpg.Please confirm that the picture is a face photo or consider to set enforce_detection param to False.\n",
            "Error processing /content/drive/MyDrive/PersianFace/Hamid_Lolaei/بیوگرافی-کامل-حمید-لولایی-عکس-11-600x436-0.jpg: Input image must not have non-english characters - /content/drive/MyDrive/PersianFace/Hamid_Lolaei/بیوگرافی-کامل-حمید-لولایی-عکس-11-600x436-0.jpg\n",
            "Error processing /content/drive/MyDrive/PersianFace/Hamid_Lolaei/حمید+لولایی+و+شریفی+نیا+فیلم+سه+بیگانه-1.jpg: Input image must not have non-english characters - /content/drive/MyDrive/PersianFace/Hamid_Lolaei/حمید+لولایی+و+شریفی+نیا+فیلم+سه+بیگانه-1.jpg\n",
            "Error processing /content/drive/MyDrive/PersianFace/Hamid_Lolaei/حمید+لولایی-0.jpg: Input image must not have non-english characters - /content/drive/MyDrive/PersianFace/Hamid_Lolaei/حمید+لولایی-0.jpg\n",
            "Error processing /content/drive/MyDrive/PersianFace/Hamid_Lolaei/حمید-لولایی-و-همسرش-و-دخترش-1-1.jpg: Input image must not have non-english characters - /content/drive/MyDrive/PersianFace/Hamid_Lolaei/حمید-لولایی-و-همسرش-و-دخترش-1-1.jpg\n",
            "Error processing /content/drive/MyDrive/PersianFace/Hamid_Lolaei/سریالیست-2-1.jpg: Input image must not have non-english characters - /content/drive/MyDrive/PersianFace/Hamid_Lolaei/سریالیست-2-1.jpg\n",
            "Error processing /content/drive/MyDrive/PersianFace/Hamid_Lolaei/560546_111-1.jpg: Face could not be detected in /content/drive/MyDrive/PersianFace/Hamid_Lolaei/560546_111-1.jpg.Please confirm that the picture is a face photo or consider to set enforce_detection param to False.\n"
          ]
        },
        {
          "name": "stderr",
          "output_type": "stream",
          "text": [
            " 72%|███████▏  | 26/36 [32:10<12:29, 74.96s/it]"
          ]
        },
        {
          "name": "stdout",
          "output_type": "stream",
          "text": [
            "Error processing /content/drive/MyDrive/PersianFace/Mohsen_Chavoshi/nody-عکس-محسن-چاوشي-1624402405-1.jpg: Input image must not have non-english characters - /content/drive/MyDrive/PersianFace/Mohsen_Chavoshi/nody-عکس-محسن-چاوشي-1624402405-1.jpg\n",
            "Error processing /content/drive/MyDrive/PersianFace/Mohsen_Chavoshi/nody-عکس-محسن-چاوشي-1624402405-0.jpg: Input image must not have non-english characters - /content/drive/MyDrive/PersianFace/Mohsen_Chavoshi/nody-عکس-محسن-چاوشي-1624402405-0.jpg\n",
            "Error processing /content/drive/MyDrive/PersianFace/Mohsen_Chavoshi/زندگی-محسن-چاوشی-26-0.jpg: Input image must not have non-english characters - /content/drive/MyDrive/PersianFace/Mohsen_Chavoshi/زندگی-محسن-چاوشی-26-0.jpg\n",
            "Error processing /content/drive/MyDrive/PersianFace/Mohsen_Chavoshi/حضور-محسن-چاوشی-در-برنامه-شهاب-حسینی؟-عکس-0.jpg: Input image must not have non-english characters - /content/drive/MyDrive/PersianFace/Mohsen_Chavoshi/حضور-محسن-چاوشی-در-برنامه-شهاب-حسینی؟-عکس-0.jpg\n",
            "Error processing /content/drive/MyDrive/PersianFace/Mohsen_Chavoshi/محسن+چاووشی-0.jpg: Input image must not have non-english characters - /content/drive/MyDrive/PersianFace/Mohsen_Chavoshi/محسن+چاووشی-0.jpg\n",
            "Error processing /content/drive/MyDrive/PersianFace/Mohsen_Chavoshi/محسن-چاوشی (1)-1.jpg: Input image must not have non-english characters - /content/drive/MyDrive/PersianFace/Mohsen_Chavoshi/محسن-چاوشی (1)-1.jpg\n",
            "Error processing /content/drive/MyDrive/PersianFace/Mohsen_Chavoshi/چ-0.jpg: Input image must not have non-english characters - /content/drive/MyDrive/PersianFace/Mohsen_Chavoshi/چ-0.jpg\n",
            "Error processing /content/drive/MyDrive/PersianFace/Mohsen_Chavoshi/محسن-چاوشی-0.jpg: Input image must not have non-english characters - /content/drive/MyDrive/PersianFace/Mohsen_Chavoshi/محسن-چاوشی-0.jpg\n",
            "Error processing /content/drive/MyDrive/PersianFace/Mohsen_Chavoshi/گلاره-عباسی-و-همسرش-به-همراه-محسن-چاوشی-و-اسپاکو-2.jpg: Input image must not have non-english characters - /content/drive/MyDrive/PersianFace/Mohsen_Chavoshi/گلاره-عباسی-و-همسرش-به-همراه-محسن-چاوشی-و-اسپاکو-2.jpg\n",
            "Error processing /content/drive/MyDrive/PersianFace/Parinaz_Izadyar/بازیگران+فیلم+جیران-0.jpg: Input image must not have non-english characters - /content/drive/MyDrive/PersianFace/Parinaz_Izadyar/بازیگران+فیلم+جیران-0.jpg\n",
            "Error processing /content/drive/MyDrive/PersianFace/Parinaz_Izadyar/بینوایان-0.jpg: Input image must not have non-english characters - /content/drive/MyDrive/PersianFace/Parinaz_Izadyar/بینوایان-0.jpg\n",
            "Error processing /content/drive/MyDrive/PersianFace/Parinaz_Izadyar/لباس-حسرت-برانگیز-پریناز-ایزدیار--22444-0.jpg: Input image must not have non-english characters - /content/drive/MyDrive/PersianFace/Parinaz_Izadyar/لباس-حسرت-برانگیز-پریناز-ایزدیار--22444-0.jpg\n",
            "Error processing /content/drive/MyDrive/PersianFace/Parinaz_Izadyar/لباس-حسرت-برانگیز-پریناز-ایزدیار--2766-0.jpg: Input image must not have non-english characters - /content/drive/MyDrive/PersianFace/Parinaz_Izadyar/لباس-حسرت-برانگیز-پریناز-ایزدیار--2766-0.jpg\n",
            "Error processing /content/drive/MyDrive/PersianFace/Parinaz_Izadyar/پریناز+ایزدیار (2)-0.jpg: Input image must not have non-english characters - /content/drive/MyDrive/PersianFace/Parinaz_Izadyar/پریناز+ایزدیار (2)-0.jpg\n",
            "Error processing /content/drive/MyDrive/PersianFace/Parinaz_Izadyar/پریناز+ایزدیار (1)-0.jpg: Input image must not have non-english characters - /content/drive/MyDrive/PersianFace/Parinaz_Izadyar/پریناز+ایزدیار (1)-0.jpg\n",
            "Error processing /content/drive/MyDrive/PersianFace/Parinaz_Izadyar/پریناز+ایزدیار (3)-0.jpg: Input image must not have non-english characters - /content/drive/MyDrive/PersianFace/Parinaz_Izadyar/پریناز+ایزدیار (3)-0.jpg\n",
            "Error processing /content/drive/MyDrive/PersianFace/Parinaz_Izadyar/پریناز+ایزدیار (4)-0.jpg: Input image must not have non-english characters - /content/drive/MyDrive/PersianFace/Parinaz_Izadyar/پریناز+ایزدیار (4)-0.jpg\n",
            "Error processing /content/drive/MyDrive/PersianFace/Parinaz_Izadyar/پریناز+ایزدیار (5)-0.jpg: Input image must not have non-english characters - /content/drive/MyDrive/PersianFace/Parinaz_Izadyar/پریناز+ایزدیار (5)-0.jpg\n",
            "Error processing /content/drive/MyDrive/PersianFace/Parinaz_Izadyar/پریناز+ایزدیار-0.jpg: Input image must not have non-english characters - /content/drive/MyDrive/PersianFace/Parinaz_Izadyar/پریناز+ایزدیار-0.jpg\n",
            "Error processing /content/drive/MyDrive/PersianFace/Parinaz_Izadyar/پریناز-ایزدیار-0.jpg: Input image must not have non-english characters - /content/drive/MyDrive/PersianFace/Parinaz_Izadyar/پریناز-ایزدیار-0.jpg\n",
            "Error processing /content/drive/MyDrive/PersianFace/Parinaz_Izadyar/maxresdefault (1)-1.jpg: Face could not be detected in /content/drive/MyDrive/PersianFace/Parinaz_Izadyar/maxresdefault (1)-1.jpg.Please confirm that the picture is a face photo or consider to set enforce_detection param to False.\n"
          ]
        },
        {
          "name": "stderr",
          "output_type": "stream",
          "text": [
            "\r 75%|███████▌  | 27/36 [33:19<10:58, 73.14s/it]"
          ]
        },
        {
          "name": "stdout",
          "output_type": "stream",
          "text": [
            "Error processing /content/drive/MyDrive/PersianFace/Parsa_Pirozfar/35.jpg: Face could not be detected in /content/drive/MyDrive/PersianFace/Parsa_Pirozfar/35.jpg.Please confirm that the picture is a face photo or consider to set enforce_detection param to False.\n"
          ]
        },
        {
          "name": "stderr",
          "output_type": "stream",
          "text": [
            "\r 78%|███████▊  | 28/36 [35:46<12:43, 95.39s/it]"
          ]
        },
        {
          "name": "stdout",
          "output_type": "stream",
          "text": [
            "Error processing /content/drive/MyDrive/PersianFace/Parviz_Parastooee/AndroidOnlineNewsImage+(15)-2.jpg: Face could not be detected in /content/drive/MyDrive/PersianFace/Parviz_Parastooee/AndroidOnlineNewsImage+(15)-2.jpg.Please confirm that the picture is a face photo or consider to set enforce_detection param to False.\n",
            "Error processing /content/drive/MyDrive/PersianFace/Parviz_Parastooee/1397072414114060215669924-5.jpg: Face could not be detected in /content/drive/MyDrive/PersianFace/Parviz_Parastooee/1397072414114060215669924-5.jpg.Please confirm that the picture is a face photo or consider to set enforce_detection param to False.\n",
            "Error processing /content/drive/MyDrive/PersianFace/Parviz_Parastooee/6708313_275_0_936_661_1920x0_80_0_0_365084393b7cfe3b61c1dc64fea9807b-1.jpg: Face could not be detected in /content/drive/MyDrive/PersianFace/Parviz_Parastooee/6708313_275_0_936_661_1920x0_80_0_0_365084393b7cfe3b61c1dc64fea9807b-1.jpg.Please confirm that the picture is a face photo or consider to set enforce_detection param to False.\n",
            "Error processing /content/drive/MyDrive/PersianFace/Parviz_Parastooee/parviz-shabnak.ir-1-1.jpg: Face could not be detected in /content/drive/MyDrive/PersianFace/Parviz_Parastooee/parviz-shabnak.ir-1-1.jpg.Please confirm that the picture is a face photo or consider to set enforce_detection param to False.\n",
            "Error processing /content/drive/MyDrive/PersianFace/Parviz_Parastooee/ze64beqzecxu-2.jpg: Face could not be detected in /content/drive/MyDrive/PersianFace/Parviz_Parastooee/ze64beqzecxu-2.jpg.Please confirm that the picture is a face photo or consider to set enforce_detection param to False.\n",
            "Error processing /content/drive/MyDrive/PersianFace/Parviz_Parastooee/بیوگرافی-پرویز-پرستویی2-0.jpg: Input image must not have non-english characters - /content/drive/MyDrive/PersianFace/Parviz_Parastooee/بیوگرافی-پرویز-پرستویی2-0.jpg\n",
            "Error processing /content/drive/MyDrive/PersianFace/Parviz_Parastooee/زندگینامه-و-عکس-پرویز-پرستویی-0.jpg: Input image must not have non-english characters - /content/drive/MyDrive/PersianFace/Parviz_Parastooee/زندگینامه-و-عکس-پرویز-پرستویی-0.jpg\n",
            "Error processing /content/drive/MyDrive/PersianFace/Parviz_Parastooee/هم-گناه-پوستر-w850-4.jpg: Input image must not have non-english characters - /content/drive/MyDrive/PersianFace/Parviz_Parastooee/هم-گناه-پوستر-w850-4.jpg\n",
            "Error processing /content/drive/MyDrive/PersianFace/Parviz_Parastooee/پرویز+پرستویی (1)-0.jpg: Input image must not have non-english characters - /content/drive/MyDrive/PersianFace/Parviz_Parastooee/پرویز+پرستویی (1)-0.jpg\n",
            "Error processing /content/drive/MyDrive/PersianFace/Parviz_Parastooee/پرویز+پرستویی-0.jpg: Input image must not have non-english characters - /content/drive/MyDrive/PersianFace/Parviz_Parastooee/پرویز+پرستویی-0.jpg\n",
            "Error processing /content/drive/MyDrive/PersianFace/Parviz_Parastooee/پرویز-پرستویی (1)-0.jpg: Input image must not have non-english characters - /content/drive/MyDrive/PersianFace/Parviz_Parastooee/پرویز-پرستویی (1)-0.jpg\n",
            "Error processing /content/drive/MyDrive/PersianFace/Parviz_Parastooee/پرویز-پرستویی (2)-0.jpg: Input image must not have non-english characters - /content/drive/MyDrive/PersianFace/Parviz_Parastooee/پرویز-پرستویی (2)-0.jpg\n",
            "Error processing /content/drive/MyDrive/PersianFace/Parviz_Parastooee/پرویز-پرستویی (2)-2.jpg: Input image must not have non-english characters - /content/drive/MyDrive/PersianFace/Parviz_Parastooee/پرویز-پرستویی (2)-2.jpg\n",
            "Error processing /content/drive/MyDrive/PersianFace/Parviz_Parastooee/پرویز-پرستویی-و-پسرش (1)-1.jpg: Input image must not have non-english characters - /content/drive/MyDrive/PersianFace/Parviz_Parastooee/پرویز-پرستویی-و-پسرش (1)-1.jpg\n",
            "Error processing /content/drive/MyDrive/PersianFace/Parviz_Parastooee/پرویز-پرستویی-و-پسرش (1)-0.jpg: Input image must not have non-english characters - /content/drive/MyDrive/PersianFace/Parviz_Parastooee/پرویز-پرستویی-و-پسرش (1)-0.jpg\n",
            "Error processing /content/drive/MyDrive/PersianFace/Parviz_Parastooee/پرویز-پرستویی-و-پسرش-0.jpg: Input image must not have non-english characters - /content/drive/MyDrive/PersianFace/Parviz_Parastooee/پرویز-پرستویی-و-پسرش-0.jpg\n",
            "Error processing /content/drive/MyDrive/PersianFace/Parviz_Parastooee/پرویز-پرستویی-0.jpg: Input image must not have non-english characters - /content/drive/MyDrive/PersianFace/Parviz_Parastooee/پرویز-پرستویی-0.jpg\n",
            "Error processing /content/drive/MyDrive/PersianFace/Parviz_Parastooee/ff3191526628d30fef7be98651139981--iranian-0.jpg: Face could not be detected in /content/drive/MyDrive/PersianFace/Parviz_Parastooee/ff3191526628d30fef7be98651139981--iranian-0.jpg.Please confirm that the picture is a face photo or consider to set enforce_detection param to False.\n",
            "Error processing /content/drive/MyDrive/PersianFace/Parviz_Parastooee/nody-عکسهای-همسر-پرویز-پرستویی-1623071786-0.jpg: Input image must not have non-english characters - /content/drive/MyDrive/PersianFace/Parviz_Parastooee/nody-عکسهای-همسر-پرویز-پرستویی-1623071786-0.jpg\n",
            "Error processing /content/drive/MyDrive/PersianFace/Parviz_Parastooee/nody-عکسهای-همسر-پرویز-پرستویی-1623071786-2.jpg: Input image must not have non-english characters - /content/drive/MyDrive/PersianFace/Parviz_Parastooee/nody-عکسهای-همسر-پرویز-پرستویی-1623071786-2.jpg\n"
          ]
        },
        {
          "name": "stderr",
          "output_type": "stream",
          "text": [
            "\r 81%|████████  | 29/36 [36:58<10:18, 88.31s/it]"
          ]
        },
        {
          "name": "stdout",
          "output_type": "stream",
          "text": [
            "Error processing /content/drive/MyDrive/PersianFace/Siamak_Ansari/مهران+مدیری،+جواد+رضویان،+سیامک+انصاری+و+مهران+غفوریان-3.jpg: Input image must not have non-english characters - /content/drive/MyDrive/PersianFace/Siamak_Ansari/مهران+مدیری،+جواد+رضویان،+سیامک+انصاری+و+مهران+غفوریان-3.jpg\n",
            "Error processing /content/drive/MyDrive/PersianFace/Siamak_Ansari/3936-2.jpg: Face could not be detected in /content/drive/MyDrive/PersianFace/Siamak_Ansari/3936-2.jpg.Please confirm that the picture is a face photo or consider to set enforce_detection param to False.\n",
            "Error processing /content/drive/MyDrive/PersianFace/Siamak_Ansari/5557474-0.jpg: Face could not be detected in /content/drive/MyDrive/PersianFace/Siamak_Ansari/5557474-0.jpg.Please confirm that the picture is a face photo or consider to set enforce_detection param to False.\n",
            "Error processing /content/drive/MyDrive/PersianFace/Siamak_Ansari/بیوگرافی-سیامک-انصاری-و-همسرش-0.jpg: Input image must not have non-english characters - /content/drive/MyDrive/PersianFace/Siamak_Ansari/بیوگرافی-سیامک-انصاری-و-همسرش-0.jpg\n",
            "Error processing /content/drive/MyDrive/PersianFace/Siamak_Ansari/جواد+رضویان+و+سیامک+انصاری-1.jpg: Input image must not have non-english characters - /content/drive/MyDrive/PersianFace/Siamak_Ansari/جواد+رضویان+و+سیامک+انصاری-1.jpg\n",
            "Error processing /content/drive/MyDrive/PersianFace/Siamak_Ansari/سیامک+انصاری+و+علیرضا+عصار-0.jpg: Input image must not have non-english characters - /content/drive/MyDrive/PersianFace/Siamak_Ansari/سیامک+انصاری+و+علیرضا+عصار-0.jpg\n",
            "Error processing /content/drive/MyDrive/PersianFace/Siamak_Ansari/سیامک+انصاری-0.jpg: Input image must not have non-english characters - /content/drive/MyDrive/PersianFace/Siamak_Ansari/سیامک+انصاری-0.jpg\n",
            "Error processing /content/drive/MyDrive/PersianFace/Siamak_Ansari/سیامک-انصاری (1)-1.jpg: Input image must not have non-english characters - /content/drive/MyDrive/PersianFace/Siamak_Ansari/سیامک-انصاری (1)-1.jpg\n",
            "Error processing /content/drive/MyDrive/PersianFace/Siamak_Ansari/سیامک-انصاری (2)-0.jpg: Input image must not have non-english characters - /content/drive/MyDrive/PersianFace/Siamak_Ansari/سیامک-انصاری (2)-0.jpg\n",
            "Error processing /content/drive/MyDrive/PersianFace/Siamak_Ansari/سیامک-انصاری-0.jpg: Input image must not have non-english characters - /content/drive/MyDrive/PersianFace/Siamak_Ansari/سیامک-انصاری-0.jpg\n",
            "Error processing /content/drive/MyDrive/PersianFace/Siamak_Ansari/سیامک-انصاریbanbak-7-0.jpg: Input image must not have non-english characters - /content/drive/MyDrive/PersianFace/Siamak_Ansari/سیامک-انصاریbanbak-7-0.jpg\n",
            "Error processing /content/drive/MyDrive/PersianFace/Siamak_Ansari/سیامک_+انصاری-0.jpg: Input image must not have non-english characters - /content/drive/MyDrive/PersianFace/Siamak_Ansari/سیامک_+انصاری-0.jpg\n",
            "Error processing /content/drive/MyDrive/PersianFace/Siamak_Ansari/سیامک_انصاری-0.jpg: Input image must not have non-english characters - /content/drive/MyDrive/PersianFace/Siamak_Ansari/سیامک_انصاری-0.jpg\n",
            "Error processing /content/drive/MyDrive/PersianFace/Siamak_Ansari/لیرضا-عصار-و-سیامک-انصاری-در-آغوش-همایون-شجریان-1.jpg: Input image must not have non-english characters - /content/drive/MyDrive/PersianFace/Siamak_Ansari/لیرضا-عصار-و-سیامک-انصاری-در-آغوش-همایون-شجریان-1.jpg\n",
            "Error processing /content/drive/MyDrive/PersianFace/Siamak_Ansari/لیرضا-عصار-و-سیامک-انصاری-در-آغوش-همایون-شجریان-4.jpg: Input image must not have non-english characters - /content/drive/MyDrive/PersianFace/Siamak_Ansari/لیرضا-عصار-و-سیامک-انصاری-در-آغوش-همایون-شجریان-4.jpg\n"
          ]
        },
        {
          "name": "stderr",
          "output_type": "stream",
          "text": [
            "\r 83%|████████▎ | 30/36 [37:56<07:55, 79.22s/it]"
          ]
        },
        {
          "name": "stdout",
          "output_type": "stream",
          "text": [
            "Error processing /content/drive/MyDrive/PersianFace/Tannaz_Tabatabaee/nody-تصاویر-خواهر-طناز-طباطبایی-1629712462-0.jpg: Input image must not have non-english characters - /content/drive/MyDrive/PersianFace/Tannaz_Tabatabaee/nody-تصاویر-خواهر-طناز-طباطبایی-1629712462-0.jpg\n",
            "Error processing /content/drive/MyDrive/PersianFace/Tannaz_Tabatabaee/nody-عکس-حاملگی-طناز-طباطبایی-1625407998-0.jpg: Input image must not have non-english characters - /content/drive/MyDrive/PersianFace/Tannaz_Tabatabaee/nody-عکس-حاملگی-طناز-طباطبایی-1625407998-0.jpg\n",
            "Error processing /content/drive/MyDrive/PersianFace/Tannaz_Tabatabaee/بیوگرافی-طناز-طباطبایی-و-همسرش-0.jpg: Input image must not have non-english characters - /content/drive/MyDrive/PersianFace/Tannaz_Tabatabaee/بیوگرافی-طناز-طباطبایی-و-همسرش-0.jpg\n",
            "Error processing /content/drive/MyDrive/PersianFace/Tannaz_Tabatabaee/بیوگرافی-کامل-طناز-طباطبایی-عکس-10-600x520-0.jpg: Input image must not have non-english characters - /content/drive/MyDrive/PersianFace/Tannaz_Tabatabaee/بیوگرافی-کامل-طناز-طباطبایی-عکس-10-600x520-0.jpg\n",
            "Error processing /content/drive/MyDrive/PersianFace/Tannaz_Tabatabaee/زندگی-طناز-طباطبایی-24-0.jpg: Input image must not have non-english characters - /content/drive/MyDrive/PersianFace/Tannaz_Tabatabaee/زندگی-طناز-طباطبایی-24-0.jpg\n",
            "Error processing /content/drive/MyDrive/PersianFace/Tannaz_Tabatabaee/طناز+طباطبایی-0.jpg: Input image must not have non-english characters - /content/drive/MyDrive/PersianFace/Tannaz_Tabatabaee/طناز+طباطبایی-0.jpg\n",
            "Error processing /content/drive/MyDrive/PersianFace/Tannaz_Tabatabaee/طناز-طباطبایی-در-کنار-بازیگران-0.jpg: Input image must not have non-english characters - /content/drive/MyDrive/PersianFace/Tannaz_Tabatabaee/طناز-طباطبایی-در-کنار-بازیگران-0.jpg\n",
            "Error processing /content/drive/MyDrive/PersianFace/Tannaz_Tabatabaee/همسر-واقعی-طناز-طباطبایی-0.jpg: Input image must not have non-english characters - /content/drive/MyDrive/PersianFace/Tannaz_Tabatabaee/همسر-واقعی-طناز-طباطبایی-0.jpg\n",
            "Error processing /content/drive/MyDrive/PersianFace/Tannaz_Tabatabaee/طناز-طباطبایی-0.jpg: Input image must not have non-english characters - /content/drive/MyDrive/PersianFace/Tannaz_Tabatabaee/طناز-طباطبایی-0.jpg\n"
          ]
        },
        {
          "name": "stderr",
          "output_type": "stream",
          "text": [
            "\r 86%|████████▌ | 31/36 [39:10<06:27, 77.49s/it]"
          ]
        },
        {
          "name": "stdout",
          "output_type": "stream",
          "text": [
            "Error processing /content/drive/MyDrive/PersianFace/Shahab_Hosseini/خانه-لاکچری-شهاب-حسینی-مادرش-آمریکا-6466-1.jpg: Input image must not have non-english characters - /content/drive/MyDrive/PersianFace/Shahab_Hosseini/خانه-لاکچری-شهاب-حسینی-مادرش-آمریکا-6466-1.jpg\n",
            "Error processing /content/drive/MyDrive/PersianFace/Shahab_Hosseini/سلطان_شهاب_حسيني-0.jpg: Input image must not have non-english characters - /content/drive/MyDrive/PersianFace/Shahab_Hosseini/سلطان_شهاب_حسيني-0.jpg\n",
            "Error processing /content/drive/MyDrive/PersianFace/Shahab_Hosseini/شهاب+حسینی+-0.jpg: Input image must not have non-english characters - /content/drive/MyDrive/PersianFace/Shahab_Hosseini/شهاب+حسینی+-0.jpg\n",
            "Error processing /content/drive/MyDrive/PersianFace/Shahab_Hosseini/شهاب+حسینی-0.jpg: Input image must not have non-english characters - /content/drive/MyDrive/PersianFace/Shahab_Hosseini/شهاب+حسینی-0.jpg\n",
            "Error processing /content/drive/MyDrive/PersianFace/Shahab_Hosseini/شهاب-حسینی (1)-0.jpg: Input image must not have non-english characters - /content/drive/MyDrive/PersianFace/Shahab_Hosseini/شهاب-حسینی (1)-0.jpg\n",
            "Error processing /content/drive/MyDrive/PersianFace/Shahab_Hosseini/شهاب-حسینی-و-پسرش-1.jpg: Input image must not have non-english characters - /content/drive/MyDrive/PersianFace/Shahab_Hosseini/شهاب-حسینی-و-پسرش-1.jpg\n",
            "Error processing /content/drive/MyDrive/PersianFace/Shahab_Hosseini/شهاب-حسینی-0.jpg: Input image must not have non-english characters - /content/drive/MyDrive/PersianFace/Shahab_Hosseini/شهاب-حسینی-0.jpg\n",
            "Error processing /content/drive/MyDrive/PersianFace/Shahab_Hosseini/طلاق+شهاب+حسینی+و+گلچهره+قنبری-1.jpg: Input image must not have non-english characters - /content/drive/MyDrive/PersianFace/Shahab_Hosseini/طلاق+شهاب+حسینی+و+گلچهره+قنبری-1.jpg\n"
          ]
        },
        {
          "name": "stderr",
          "output_type": "stream",
          "text": [
            "\r 89%|████████▉ | 32/36 [40:12<04:51, 72.83s/it]"
          ]
        },
        {
          "name": "stdout",
          "output_type": "stream",
          "text": [
            "Error processing /content/drive/MyDrive/PersianFace/Siavash_Ghomayshi/035df88438735a528a15a55c18456a4a-1.jpg: Face could not be detected in /content/drive/MyDrive/PersianFace/Siavash_Ghomayshi/035df88438735a528a15a55c18456a4a-1.jpg.Please confirm that the picture is a face photo or consider to set enforce_detection param to False.\n",
            "Error processing /content/drive/MyDrive/PersianFace/Siavash_Ghomayshi/5dc50ee63f0c0-0.jpg: Face could not be detected in /content/drive/MyDrive/PersianFace/Siavash_Ghomayshi/5dc50ee63f0c0-0.jpg.Please confirm that the picture is a face photo or consider to set enforce_detection param to False.\n",
            "Error processing /content/drive/MyDrive/PersianFace/Siavash_Ghomayshi/Siavash-Ghomayshi-Gozasht-0.jpg: Face could not be detected in /content/drive/MyDrive/PersianFace/Siavash_Ghomayshi/Siavash-Ghomayshi-Gozasht-0.jpg.Please confirm that the picture is a face photo or consider to set enforce_detection param to False.\n"
          ]
        },
        {
          "name": "stderr",
          "output_type": "stream",
          "text": [
            "\r 92%|█████████▏| 33/36 [40:49<03:07, 62.36s/it]"
          ]
        },
        {
          "name": "stdout",
          "output_type": "stream",
          "text": [
            "Error processing /content/drive/MyDrive/PersianFace/Siavash_Ghomayshi/سیاوش-قمیشی-6-0.jpg: Input image must not have non-english characters - /content/drive/MyDrive/PersianFace/Siavash_Ghomayshi/سیاوش-قمیشی-6-0.jpg\n",
            "Error processing /content/drive/MyDrive/PersianFace/Siavash_Ghomayshi/سیاوش-قمیشی-765544-0.jpg: Input image must not have non-english characters - /content/drive/MyDrive/PersianFace/Siavash_Ghomayshi/سیاوش-قمیشی-765544-0.jpg\n",
            "Error processing /content/drive/MyDrive/PersianFace/Siavash_Ghomayshi/شکوفه-های-کویری-0.jpg: Input image must not have non-english characters - /content/drive/MyDrive/PersianFace/Siavash_Ghomayshi/شکوفه-های-کویری-0.jpg\n",
            "Error processing /content/drive/MyDrive/PersianFace/Siavash_Ghomayshi/موکاب-کتاب-0.jpg: Input image must not have non-english characters - /content/drive/MyDrive/PersianFace/Siavash_Ghomayshi/موکاب-کتاب-0.jpg\n",
            "Error processing /content/drive/MyDrive/PersianFace/Mehran_Modiri/بیوگرافی-سید-جواد-رضویان-به-همراه-عکس-ه-13-1.jpg: Input image must not have non-english characters - /content/drive/MyDrive/PersianFace/Mehran_Modiri/بیوگرافی-سید-جواد-رضویان-به-همراه-عکس-ه-13-1.jpg\n",
            "Error processing /content/drive/MyDrive/PersianFace/Mehran_Modiri/مهران+مدیری،+جواد+رضویان،+سیامک+انصاری+و+مهران+غفوریان-0.jpg: Input image must not have non-english characters - /content/drive/MyDrive/PersianFace/Mehran_Modiri/مهران+مدیری،+جواد+رضویان،+سیامک+انصاری+و+مهران+غفوریان-0.jpg\n",
            "Error processing /content/drive/MyDrive/PersianFace/Mehran_Modiri/مهران-مدیری (2)-0.jpg: Input image must not have non-english characters - /content/drive/MyDrive/PersianFace/Mehran_Modiri/مهران-مدیری (2)-0.jpg\n",
            "Error processing /content/drive/MyDrive/PersianFace/Mehran_Modiri/مهران-مدیری (20)-0.jpg: Input image must not have non-english characters - /content/drive/MyDrive/PersianFace/Mehran_Modiri/مهران-مدیری (20)-0.jpg\n",
            "Error processing /content/drive/MyDrive/PersianFace/Mehran_Modiri/مهران-مدیری (21)-0.jpg: Input image must not have non-english characters - /content/drive/MyDrive/PersianFace/Mehran_Modiri/مهران-مدیری (21)-0.jpg\n",
            "Error processing /content/drive/MyDrive/PersianFace/Mehran_Modiri/مهران-مدیری (21)-1.jpg: Input image must not have non-english characters - /content/drive/MyDrive/PersianFace/Mehran_Modiri/مهران-مدیری (21)-1.jpg\n",
            "Error processing /content/drive/MyDrive/PersianFace/Mehran_Modiri/مهران-مدیری (22)-0.jpg: Input image must not have non-english characters - /content/drive/MyDrive/PersianFace/Mehran_Modiri/مهران-مدیری (22)-0.jpg\n",
            "Error processing /content/drive/MyDrive/PersianFace/Mehran_Modiri/مهران-مدیری (3)-0.jpg: Input image must not have non-english characters - /content/drive/MyDrive/PersianFace/Mehran_Modiri/مهران-مدیری (3)-0.jpg\n",
            "Error processing /content/drive/MyDrive/PersianFace/Mehran_Modiri/مهران-مدیری (4)-1.jpg: Input image must not have non-english characters - /content/drive/MyDrive/PersianFace/Mehran_Modiri/مهران-مدیری (4)-1.jpg\n",
            "Error processing /content/drive/MyDrive/PersianFace/Mehran_Modiri/مهران-مدیری (5)-0.jpg: Input image must not have non-english characters - /content/drive/MyDrive/PersianFace/Mehran_Modiri/مهران-مدیری (5)-0.jpg\n",
            "Error processing /content/drive/MyDrive/PersianFace/Mehran_Modiri/مهران-مدیری (6)-0.jpg: Input image must not have non-english characters - /content/drive/MyDrive/PersianFace/Mehran_Modiri/مهران-مدیری (6)-0.jpg\n",
            "Error processing /content/drive/MyDrive/PersianFace/Mehran_Modiri/مهران-مدیری (8)-0.jpg: Input image must not have non-english characters - /content/drive/MyDrive/PersianFace/Mehran_Modiri/مهران-مدیری (8)-0.jpg\n",
            "Error processing /content/drive/MyDrive/PersianFace/Mehran_Modiri/مهران-مدیری (9)-0.jpg: Input image must not have non-english characters - /content/drive/MyDrive/PersianFace/Mehran_Modiri/مهران-مدیری (9)-0.jpg\n",
            "Error processing /content/drive/MyDrive/PersianFace/Mehran_Modiri/مهران-مدیری- (1)-0.jpg: Input image must not have non-english characters - /content/drive/MyDrive/PersianFace/Mehran_Modiri/مهران-مدیری- (1)-0.jpg\n",
            "Error processing /content/drive/MyDrive/PersianFace/Mehran_Modiri/مهران-مدیری- (2)-0.jpg: Input image must not have non-english characters - /content/drive/MyDrive/PersianFace/Mehran_Modiri/مهران-مدیری- (2)-0.jpg\n",
            "Error processing /content/drive/MyDrive/PersianFace/Mehran_Modiri/مهران-مدیری- (4)-0.jpg: Input image must not have non-english characters - /content/drive/MyDrive/PersianFace/Mehran_Modiri/مهران-مدیری- (4)-0.jpg\n",
            "Error processing /content/drive/MyDrive/PersianFace/Mehran_Modiri/مهران-مدیری--2--0.jpg: Input image must not have non-english characters - /content/drive/MyDrive/PersianFace/Mehran_Modiri/مهران-مدیری--2--0.jpg\n",
            "Error processing /content/drive/MyDrive/PersianFace/Mehran_Modiri/مهران-مدیری--0.jpg: Input image must not have non-english characters - /content/drive/MyDrive/PersianFace/Mehran_Modiri/مهران-مدیری--0.jpg\n",
            "Error processing /content/drive/MyDrive/PersianFace/Mehran_Modiri/مهران-مدیری-2-1.jpg: Input image must not have non-english characters - /content/drive/MyDrive/PersianFace/Mehran_Modiri/مهران-مدیری-2-1.jpg\n",
            "Error processing /content/drive/MyDrive/PersianFace/Mehran_Modiri/مهران-مدیری-و-سحر-زکریا-0.jpg: Input image must not have non-english characters - /content/drive/MyDrive/PersianFace/Mehran_Modiri/مهران-مدیری-و-سحر-زکریا-0.jpg\n",
            "Error processing /content/drive/MyDrive/PersianFace/Mehran_Modiri/مهرانمدیریدورهمی-0.jpg: Input image must not have non-english characters - /content/drive/MyDrive/PersianFace/Mehran_Modiri/مهرانمدیریدورهمی-0.jpg\n",
            "Error processing /content/drive/MyDrive/PersianFace/Mehran_Modiri/کاهش-وزن-عجیب-و-غریب-مهران-مدیری--مهران-مدیری-جراحی-لاغری-کر-0.jpg: Input image must not have non-english characters - /content/drive/MyDrive/PersianFace/Mehran_Modiri/کاهش-وزن-عجیب-و-غریب-مهران-مدیری--مهران-مدیری-جراحی-لاغری-کر-0.jpg\n",
            "Error processing /content/drive/MyDrive/PersianFace/Mehran_Modiri/کاهش-وزن-عجیب-و-غریب-مهران-مدیری--مهران-مدیری-جراحی-لاغری-کر-1.jpg: Input image must not have non-english characters - /content/drive/MyDrive/PersianFace/Mehran_Modiri/کاهش-وزن-عجیب-و-غریب-مهران-مدیری--مهران-مدیری-جراحی-لاغری-کر-1.jpg\n",
            "Error processing /content/drive/MyDrive/PersianFace/Mehran_Modiri/کمک-احمدی‌-نژاد-به-مهران-مدیری-1.jpg: Input image must not have non-english characters - /content/drive/MyDrive/PersianFace/Mehran_Modiri/کمک-احمدی‌-نژاد-به-مهران-مدیری-1.jpg\n",
            "Error processing /content/drive/MyDrive/PersianFace/Mehran_Modiri/عکس-جنجالی-لو-رفته-مهران-مدیری-و-خانم-بازیگر--1.jpg: Input image must not have non-english characters - /content/drive/MyDrive/PersianFace/Mehran_Modiri/عکس-جنجالی-لو-رفته-مهران-مدیری-و-خانم-بازیگر--1.jpg\n",
            "Error processing /content/drive/MyDrive/PersianFace/Mehran_Modiri/عکس-های-مهران-مدیری-0.jpg: Input image must not have non-english characters - /content/drive/MyDrive/PersianFace/Mehran_Modiri/عکس-های-مهران-مدیری-0.jpg\n",
            "Error processing /content/drive/MyDrive/PersianFace/Mehran_Modiri/مهران-مدیری (1)-0.jpg: Input image must not have non-english characters - /content/drive/MyDrive/PersianFace/Mehran_Modiri/مهران-مدیری (1)-0.jpg\n",
            "Error processing /content/drive/MyDrive/PersianFace/Mehran_Modiri/مهران-مدیری (10)-0.jpg: Input image must not have non-english characters - /content/drive/MyDrive/PersianFace/Mehran_Modiri/مهران-مدیری (10)-0.jpg\n",
            "Error processing /content/drive/MyDrive/PersianFace/Mehran_Modiri/مهران-مدیری (11)-0.jpg: Input image must not have non-english characters - /content/drive/MyDrive/PersianFace/Mehran_Modiri/مهران-مدیری (11)-0.jpg\n",
            "Error processing /content/drive/MyDrive/PersianFace/Mehran_Modiri/مهران-مدیری (12)-0.jpg: Input image must not have non-english characters - /content/drive/MyDrive/PersianFace/Mehran_Modiri/مهران-مدیری (12)-0.jpg\n",
            "Error processing /content/drive/MyDrive/PersianFace/Mehran_Modiri/مهران-مدیری (13)-1.jpg: Input image must not have non-english characters - /content/drive/MyDrive/PersianFace/Mehran_Modiri/مهران-مدیری (13)-1.jpg\n",
            "Error processing /content/drive/MyDrive/PersianFace/Mehran_Modiri/مهران-مدیری (16)-1.jpg: Input image must not have non-english characters - /content/drive/MyDrive/PersianFace/Mehran_Modiri/مهران-مدیری (16)-1.jpg\n",
            "Error processing /content/drive/MyDrive/PersianFace/Mehran_Modiri/مهران-مدیری (17)-1.jpg: Input image must not have non-english characters - /content/drive/MyDrive/PersianFace/Mehran_Modiri/مهران-مدیری (17)-1.jpg\n",
            "Error processing /content/drive/MyDrive/PersianFace/Mehran_Modiri/مهران-مدیری (18)-1.jpg: Input image must not have non-english characters - /content/drive/MyDrive/PersianFace/Mehran_Modiri/مهران-مدیری (18)-1.jpg\n",
            "Error processing /content/drive/MyDrive/PersianFace/Mehran_Modiri/مهران-مدیری (19)-0.jpg: Input image must not have non-english characters - /content/drive/MyDrive/PersianFace/Mehran_Modiri/مهران-مدیری (19)-0.jpg\n",
            "Error processing /content/drive/MyDrive/PersianFace/Mehran_Modiri/مهران-مدیری (19)-1.jpg: Input image must not have non-english characters - /content/drive/MyDrive/PersianFace/Mehran_Modiri/مهران-مدیری (19)-1.jpg\n"
          ]
        },
        {
          "name": "stderr",
          "output_type": "stream",
          "text": [
            "\r 94%|█████████▍| 34/36 [41:39<01:56, 58.41s/it]"
          ]
        },
        {
          "name": "stdout",
          "output_type": "stream",
          "text": [
            "Error processing /content/drive/MyDrive/PersianFace/Taraneh_Alidoosti/nody-عکس-ترانه-علیدوستی-1632203240-1.jpg: Input image must not have non-english characters - /content/drive/MyDrive/PersianFace/Taraneh_Alidoosti/nody-عکس-ترانه-علیدوستی-1632203240-1.jpg\n"
          ]
        },
        {
          "name": "stderr",
          "output_type": "stream",
          "text": [
            "\r 97%|█████████▋| 35/36 [42:48<01:01, 61.55s/it]"
          ]
        },
        {
          "name": "stdout",
          "output_type": "stream",
          "text": [
            "Error processing /content/drive/MyDrive/PersianFace/Taraneh_Alidoosti/ترانه+علیدوستی (1)-0.jpg: Input image must not have non-english characters - /content/drive/MyDrive/PersianFace/Taraneh_Alidoosti/ترانه+علیدوستی (1)-0.jpg\n",
            "Error processing /content/drive/MyDrive/PersianFace/Taraneh_Alidoosti/ترانه+علیدوستی (2)-0.jpg: Input image must not have non-english characters - /content/drive/MyDrive/PersianFace/Taraneh_Alidoosti/ترانه+علیدوستی (2)-0.jpg\n",
            "Error processing /content/drive/MyDrive/PersianFace/Taraneh_Alidoosti/ترانه+علیدوستی (3)-0.jpg: Input image must not have non-english characters - /content/drive/MyDrive/PersianFace/Taraneh_Alidoosti/ترانه+علیدوستی (3)-0.jpg\n",
            "Error processing /content/drive/MyDrive/PersianFace/Taraneh_Alidoosti/ترانه+علیدوستی (3)-1.jpg: Input image must not have non-english characters - /content/drive/MyDrive/PersianFace/Taraneh_Alidoosti/ترانه+علیدوستی (3)-1.jpg\n",
            "Error processing /content/drive/MyDrive/PersianFace/Taraneh_Alidoosti/ترانه+علیدوستی+-0.jpg: Input image must not have non-english characters - /content/drive/MyDrive/PersianFace/Taraneh_Alidoosti/ترانه+علیدوستی+-0.jpg\n",
            "Error processing /content/drive/MyDrive/PersianFace/Taraneh_Alidoosti/ترانه+علیدوستی-0.jpg: Input image must not have non-english characters - /content/drive/MyDrive/PersianFace/Taraneh_Alidoosti/ترانه+علیدوستی-0.jpg\n",
            "Error processing /content/drive/MyDrive/PersianFace/Taraneh_Alidoosti/علیدوستی-۱۳-0.jpg: Input image must not have non-english characters - /content/drive/MyDrive/PersianFace/Taraneh_Alidoosti/علیدوستی-۱۳-0.jpg\n",
            "Error processing /content/drive/MyDrive/PersianFace/Taraneh_Alidoosti/ترانه-علیدوستی-عکس-0.jpg: Input image must not have non-english characters - /content/drive/MyDrive/PersianFace/Taraneh_Alidoosti/ترانه-علیدوستی-عکس-0.jpg\n",
            "Error processing /content/drive/MyDrive/PersianFace/Taraneh_Alidoosti/علیدوستی-۳-0.jpg: Input image must not have non-english characters - /content/drive/MyDrive/PersianFace/Taraneh_Alidoosti/علیدوستی-۳-0.jpg\n",
            "Error processing /content/drive/MyDrive/PersianFace/Taraneh_Alidoosti/عکس-ها-و-بیوگرافی-ترانه-علیدوستی-0.jpg: Input image must not have non-english characters - /content/drive/MyDrive/PersianFace/Taraneh_Alidoosti/عکس-ها-و-بیوگرافی-ترانه-علیدوستی-0.jpg\n"
          ]
        },
        {
          "name": "stderr",
          "output_type": "stream",
          "text": [
            "100%|██████████| 36/36 [42:50<00:00, 71.40s/it]\n"
          ]
        },
        {
          "name": "stdout",
          "output_type": "stream",
          "text": [
            "Dataset saved to persian_faces_dataset.csv\n"
          ]
        }
      ],
      "source": [
        "generate_dataset(dataset_path, output_file)"
      ]
    },
    {
      "cell_type": "code",
      "execution_count": 13,
      "metadata": {
        "colab": {
          "base_uri": "https://localhost:8080/",
          "height": 429
        },
        "id": "INZP7mhB56HD",
        "outputId": "ff815702-cbb4-4e5c-ab89-2f8c4b99fe8d"
      },
      "outputs": [
        {
          "data": {
            "application/vnd.google.colaboratory.intrinsic+json": {
              "type": "dataframe",
              "variable_name": "data_feature"
            },
            "text/html": [
              "\n",
              "  <div id=\"df-cc69e640-6a87-49d9-8ff8-e03ec1707159\" class=\"colab-df-container\">\n",
              "    <div>\n",
              "<style scoped>\n",
              "    .dataframe tbody tr th:only-of-type {\n",
              "        vertical-align: middle;\n",
              "    }\n",
              "\n",
              "    .dataframe tbody tr th {\n",
              "        vertical-align: top;\n",
              "    }\n",
              "\n",
              "    .dataframe thead th {\n",
              "        text-align: right;\n",
              "    }\n",
              "</style>\n",
              "<table border=\"1\" class=\"dataframe\">\n",
              "  <thead>\n",
              "    <tr style=\"text-align: right;\">\n",
              "      <th></th>\n",
              "      <th>label</th>\n",
              "      <th>file_name</th>\n",
              "      <th>feature1</th>\n",
              "      <th>feature2</th>\n",
              "      <th>feature3</th>\n",
              "      <th>feature4</th>\n",
              "      <th>feature5</th>\n",
              "      <th>feature6</th>\n",
              "      <th>feature7</th>\n",
              "      <th>feature8</th>\n",
              "      <th>...</th>\n",
              "      <th>feature503</th>\n",
              "      <th>feature504</th>\n",
              "      <th>feature505</th>\n",
              "      <th>feature506</th>\n",
              "      <th>feature507</th>\n",
              "      <th>feature508</th>\n",
              "      <th>feature509</th>\n",
              "      <th>feature510</th>\n",
              "      <th>feature511</th>\n",
              "      <th>feature512</th>\n",
              "    </tr>\n",
              "  </thead>\n",
              "  <tbody>\n",
              "    <tr>\n",
              "      <th>0</th>\n",
              "      <td>Bahram_Radan</td>\n",
              "      <td>Bahram Radan (57).jpg</td>\n",
              "      <td>0.108864</td>\n",
              "      <td>0.484667</td>\n",
              "      <td>0.187422</td>\n",
              "      <td>0.093203</td>\n",
              "      <td>0.206806</td>\n",
              "      <td>0.050065</td>\n",
              "      <td>0.186583</td>\n",
              "      <td>-0.152157</td>\n",
              "      <td>...</td>\n",
              "      <td>-0.050543</td>\n",
              "      <td>0.230124</td>\n",
              "      <td>0.142929</td>\n",
              "      <td>0.164893</td>\n",
              "      <td>0.212706</td>\n",
              "      <td>-0.460180</td>\n",
              "      <td>-0.118002</td>\n",
              "      <td>0.084906</td>\n",
              "      <td>0.538402</td>\n",
              "      <td>0.152325</td>\n",
              "    </tr>\n",
              "    <tr>\n",
              "      <th>1</th>\n",
              "      <td>Bahram_Radan</td>\n",
              "      <td>Bahram Radan (56).jpg</td>\n",
              "      <td>0.153871</td>\n",
              "      <td>0.071240</td>\n",
              "      <td>0.333966</td>\n",
              "      <td>0.106579</td>\n",
              "      <td>0.099243</td>\n",
              "      <td>0.084471</td>\n",
              "      <td>0.087038</td>\n",
              "      <td>-0.107057</td>\n",
              "      <td>...</td>\n",
              "      <td>0.091650</td>\n",
              "      <td>-0.003302</td>\n",
              "      <td>-0.056058</td>\n",
              "      <td>-0.040689</td>\n",
              "      <td>0.038452</td>\n",
              "      <td>-0.318928</td>\n",
              "      <td>-0.073893</td>\n",
              "      <td>0.222008</td>\n",
              "      <td>0.302453</td>\n",
              "      <td>0.092268</td>\n",
              "    </tr>\n",
              "    <tr>\n",
              "      <th>2</th>\n",
              "      <td>Bahram_Radan</td>\n",
              "      <td>Bahram Radan (10).jpg</td>\n",
              "      <td>0.019485</td>\n",
              "      <td>0.270387</td>\n",
              "      <td>0.121900</td>\n",
              "      <td>0.157542</td>\n",
              "      <td>0.227794</td>\n",
              "      <td>0.033846</td>\n",
              "      <td>0.272980</td>\n",
              "      <td>-0.167279</td>\n",
              "      <td>...</td>\n",
              "      <td>0.050724</td>\n",
              "      <td>0.128263</td>\n",
              "      <td>0.042840</td>\n",
              "      <td>-0.029434</td>\n",
              "      <td>0.303992</td>\n",
              "      <td>-0.287529</td>\n",
              "      <td>-0.091047</td>\n",
              "      <td>-0.277219</td>\n",
              "      <td>0.351164</td>\n",
              "      <td>0.202507</td>\n",
              "    </tr>\n",
              "    <tr>\n",
              "      <th>3</th>\n",
              "      <td>Bahram_Radan</td>\n",
              "      <td>Bahram Radan (1).jpg</td>\n",
              "      <td>0.116347</td>\n",
              "      <td>0.412593</td>\n",
              "      <td>0.210791</td>\n",
              "      <td>0.074177</td>\n",
              "      <td>0.011240</td>\n",
              "      <td>0.075367</td>\n",
              "      <td>0.264233</td>\n",
              "      <td>-0.147184</td>\n",
              "      <td>...</td>\n",
              "      <td>-0.061523</td>\n",
              "      <td>0.164062</td>\n",
              "      <td>0.120311</td>\n",
              "      <td>-0.070949</td>\n",
              "      <td>0.271467</td>\n",
              "      <td>-0.168666</td>\n",
              "      <td>-0.035562</td>\n",
              "      <td>0.164003</td>\n",
              "      <td>0.568419</td>\n",
              "      <td>0.228852</td>\n",
              "    </tr>\n",
              "    <tr>\n",
              "      <th>4</th>\n",
              "      <td>Bahram_Radan</td>\n",
              "      <td>Bahram Radan (12).jpg</td>\n",
              "      <td>-0.232697</td>\n",
              "      <td>0.510014</td>\n",
              "      <td>-0.088018</td>\n",
              "      <td>-0.579029</td>\n",
              "      <td>-0.049812</td>\n",
              "      <td>0.289211</td>\n",
              "      <td>-0.144671</td>\n",
              "      <td>-0.129927</td>\n",
              "      <td>...</td>\n",
              "      <td>-1.051915</td>\n",
              "      <td>0.099138</td>\n",
              "      <td>0.351319</td>\n",
              "      <td>-0.734843</td>\n",
              "      <td>0.237939</td>\n",
              "      <td>-0.354433</td>\n",
              "      <td>-0.020665</td>\n",
              "      <td>-0.027387</td>\n",
              "      <td>-0.467634</td>\n",
              "      <td>-0.980665</td>\n",
              "    </tr>\n",
              "  </tbody>\n",
              "</table>\n",
              "<p>5 rows × 514 columns</p>\n",
              "</div>\n",
              "    <div class=\"colab-df-buttons\">\n",
              "\n",
              "  <div class=\"colab-df-container\">\n",
              "    <button class=\"colab-df-convert\" onclick=\"convertToInteractive('df-cc69e640-6a87-49d9-8ff8-e03ec1707159')\"\n",
              "            title=\"Convert this dataframe to an interactive table.\"\n",
              "            style=\"display:none;\">\n",
              "\n",
              "  <svg xmlns=\"http://www.w3.org/2000/svg\" height=\"24px\" viewBox=\"0 -960 960 960\">\n",
              "    <path d=\"M120-120v-720h720v720H120Zm60-500h600v-160H180v160Zm220 220h160v-160H400v160Zm0 220h160v-160H400v160ZM180-400h160v-160H180v160Zm440 0h160v-160H620v160ZM180-180h160v-160H180v160Zm440 0h160v-160H620v160Z\"/>\n",
              "  </svg>\n",
              "    </button>\n",
              "\n",
              "  <style>\n",
              "    .colab-df-container {\n",
              "      display:flex;\n",
              "      gap: 12px;\n",
              "    }\n",
              "\n",
              "    .colab-df-convert {\n",
              "      background-color: #E8F0FE;\n",
              "      border: none;\n",
              "      border-radius: 50%;\n",
              "      cursor: pointer;\n",
              "      display: none;\n",
              "      fill: #1967D2;\n",
              "      height: 32px;\n",
              "      padding: 0 0 0 0;\n",
              "      width: 32px;\n",
              "    }\n",
              "\n",
              "    .colab-df-convert:hover {\n",
              "      background-color: #E2EBFA;\n",
              "      box-shadow: 0px 1px 2px rgba(60, 64, 67, 0.3), 0px 1px 3px 1px rgba(60, 64, 67, 0.15);\n",
              "      fill: #174EA6;\n",
              "    }\n",
              "\n",
              "    .colab-df-buttons div {\n",
              "      margin-bottom: 4px;\n",
              "    }\n",
              "\n",
              "    [theme=dark] .colab-df-convert {\n",
              "      background-color: #3B4455;\n",
              "      fill: #D2E3FC;\n",
              "    }\n",
              "\n",
              "    [theme=dark] .colab-df-convert:hover {\n",
              "      background-color: #434B5C;\n",
              "      box-shadow: 0px 1px 3px 1px rgba(0, 0, 0, 0.15);\n",
              "      filter: drop-shadow(0px 1px 2px rgba(0, 0, 0, 0.3));\n",
              "      fill: #FFFFFF;\n",
              "    }\n",
              "  </style>\n",
              "\n",
              "    <script>\n",
              "      const buttonEl =\n",
              "        document.querySelector('#df-cc69e640-6a87-49d9-8ff8-e03ec1707159 button.colab-df-convert');\n",
              "      buttonEl.style.display =\n",
              "        google.colab.kernel.accessAllowed ? 'block' : 'none';\n",
              "\n",
              "      async function convertToInteractive(key) {\n",
              "        const element = document.querySelector('#df-cc69e640-6a87-49d9-8ff8-e03ec1707159');\n",
              "        const dataTable =\n",
              "          await google.colab.kernel.invokeFunction('convertToInteractive',\n",
              "                                                    [key], {});\n",
              "        if (!dataTable) return;\n",
              "\n",
              "        const docLinkHtml = 'Like what you see? Visit the ' +\n",
              "          '<a target=\"_blank\" href=https://colab.research.google.com/notebooks/data_table.ipynb>data table notebook</a>'\n",
              "          + ' to learn more about interactive tables.';\n",
              "        element.innerHTML = '';\n",
              "        dataTable['output_type'] = 'display_data';\n",
              "        await google.colab.output.renderOutput(dataTable, element);\n",
              "        const docLink = document.createElement('div');\n",
              "        docLink.innerHTML = docLinkHtml;\n",
              "        element.appendChild(docLink);\n",
              "      }\n",
              "    </script>\n",
              "  </div>\n",
              "\n",
              "\n",
              "<div id=\"df-8c54b663-62bf-4c1a-87a3-0e6c85a8e6ee\">\n",
              "  <button class=\"colab-df-quickchart\" onclick=\"quickchart('df-8c54b663-62bf-4c1a-87a3-0e6c85a8e6ee')\"\n",
              "            title=\"Suggest charts\"\n",
              "            style=\"display:none;\">\n",
              "\n",
              "<svg xmlns=\"http://www.w3.org/2000/svg\" height=\"24px\"viewBox=\"0 0 24 24\"\n",
              "     width=\"24px\">\n",
              "    <g>\n",
              "        <path d=\"M19 3H5c-1.1 0-2 .9-2 2v14c0 1.1.9 2 2 2h14c1.1 0 2-.9 2-2V5c0-1.1-.9-2-2-2zM9 17H7v-7h2v7zm4 0h-2V7h2v10zm4 0h-2v-4h2v4z\"/>\n",
              "    </g>\n",
              "</svg>\n",
              "  </button>\n",
              "\n",
              "<style>\n",
              "  .colab-df-quickchart {\n",
              "      --bg-color: #E8F0FE;\n",
              "      --fill-color: #1967D2;\n",
              "      --hover-bg-color: #E2EBFA;\n",
              "      --hover-fill-color: #174EA6;\n",
              "      --disabled-fill-color: #AAA;\n",
              "      --disabled-bg-color: #DDD;\n",
              "  }\n",
              "\n",
              "  [theme=dark] .colab-df-quickchart {\n",
              "      --bg-color: #3B4455;\n",
              "      --fill-color: #D2E3FC;\n",
              "      --hover-bg-color: #434B5C;\n",
              "      --hover-fill-color: #FFFFFF;\n",
              "      --disabled-bg-color: #3B4455;\n",
              "      --disabled-fill-color: #666;\n",
              "  }\n",
              "\n",
              "  .colab-df-quickchart {\n",
              "    background-color: var(--bg-color);\n",
              "    border: none;\n",
              "    border-radius: 50%;\n",
              "    cursor: pointer;\n",
              "    display: none;\n",
              "    fill: var(--fill-color);\n",
              "    height: 32px;\n",
              "    padding: 0;\n",
              "    width: 32px;\n",
              "  }\n",
              "\n",
              "  .colab-df-quickchart:hover {\n",
              "    background-color: var(--hover-bg-color);\n",
              "    box-shadow: 0 1px 2px rgba(60, 64, 67, 0.3), 0 1px 3px 1px rgba(60, 64, 67, 0.15);\n",
              "    fill: var(--button-hover-fill-color);\n",
              "  }\n",
              "\n",
              "  .colab-df-quickchart-complete:disabled,\n",
              "  .colab-df-quickchart-complete:disabled:hover {\n",
              "    background-color: var(--disabled-bg-color);\n",
              "    fill: var(--disabled-fill-color);\n",
              "    box-shadow: none;\n",
              "  }\n",
              "\n",
              "  .colab-df-spinner {\n",
              "    border: 2px solid var(--fill-color);\n",
              "    border-color: transparent;\n",
              "    border-bottom-color: var(--fill-color);\n",
              "    animation:\n",
              "      spin 1s steps(1) infinite;\n",
              "  }\n",
              "\n",
              "  @keyframes spin {\n",
              "    0% {\n",
              "      border-color: transparent;\n",
              "      border-bottom-color: var(--fill-color);\n",
              "      border-left-color: var(--fill-color);\n",
              "    }\n",
              "    20% {\n",
              "      border-color: transparent;\n",
              "      border-left-color: var(--fill-color);\n",
              "      border-top-color: var(--fill-color);\n",
              "    }\n",
              "    30% {\n",
              "      border-color: transparent;\n",
              "      border-left-color: var(--fill-color);\n",
              "      border-top-color: var(--fill-color);\n",
              "      border-right-color: var(--fill-color);\n",
              "    }\n",
              "    40% {\n",
              "      border-color: transparent;\n",
              "      border-right-color: var(--fill-color);\n",
              "      border-top-color: var(--fill-color);\n",
              "    }\n",
              "    60% {\n",
              "      border-color: transparent;\n",
              "      border-right-color: var(--fill-color);\n",
              "    }\n",
              "    80% {\n",
              "      border-color: transparent;\n",
              "      border-right-color: var(--fill-color);\n",
              "      border-bottom-color: var(--fill-color);\n",
              "    }\n",
              "    90% {\n",
              "      border-color: transparent;\n",
              "      border-bottom-color: var(--fill-color);\n",
              "    }\n",
              "  }\n",
              "</style>\n",
              "\n",
              "  <script>\n",
              "    async function quickchart(key) {\n",
              "      const quickchartButtonEl =\n",
              "        document.querySelector('#' + key + ' button');\n",
              "      quickchartButtonEl.disabled = true;  // To prevent multiple clicks.\n",
              "      quickchartButtonEl.classList.add('colab-df-spinner');\n",
              "      try {\n",
              "        const charts = await google.colab.kernel.invokeFunction(\n",
              "            'suggestCharts', [key], {});\n",
              "      } catch (error) {\n",
              "        console.error('Error during call to suggestCharts:', error);\n",
              "      }\n",
              "      quickchartButtonEl.classList.remove('colab-df-spinner');\n",
              "      quickchartButtonEl.classList.add('colab-df-quickchart-complete');\n",
              "    }\n",
              "    (() => {\n",
              "      let quickchartButtonEl =\n",
              "        document.querySelector('#df-8c54b663-62bf-4c1a-87a3-0e6c85a8e6ee button');\n",
              "      quickchartButtonEl.style.display =\n",
              "        google.colab.kernel.accessAllowed ? 'block' : 'none';\n",
              "    })();\n",
              "  </script>\n",
              "</div>\n",
              "\n",
              "    </div>\n",
              "  </div>\n"
            ],
            "text/plain": [
              "          label              file_name  feature1  feature2  feature3  \\\n",
              "0  Bahram_Radan  Bahram Radan (57).jpg  0.108864  0.484667  0.187422   \n",
              "1  Bahram_Radan  Bahram Radan (56).jpg  0.153871  0.071240  0.333966   \n",
              "2  Bahram_Radan  Bahram Radan (10).jpg  0.019485  0.270387  0.121900   \n",
              "3  Bahram_Radan   Bahram Radan (1).jpg  0.116347  0.412593  0.210791   \n",
              "4  Bahram_Radan  Bahram Radan (12).jpg -0.232697  0.510014 -0.088018   \n",
              "\n",
              "   feature4  feature5  feature6  feature7  feature8  ...  feature503  \\\n",
              "0  0.093203  0.206806  0.050065  0.186583 -0.152157  ...   -0.050543   \n",
              "1  0.106579  0.099243  0.084471  0.087038 -0.107057  ...    0.091650   \n",
              "2  0.157542  0.227794  0.033846  0.272980 -0.167279  ...    0.050724   \n",
              "3  0.074177  0.011240  0.075367  0.264233 -0.147184  ...   -0.061523   \n",
              "4 -0.579029 -0.049812  0.289211 -0.144671 -0.129927  ...   -1.051915   \n",
              "\n",
              "   feature504  feature505  feature506  feature507  feature508  feature509  \\\n",
              "0    0.230124    0.142929    0.164893    0.212706   -0.460180   -0.118002   \n",
              "1   -0.003302   -0.056058   -0.040689    0.038452   -0.318928   -0.073893   \n",
              "2    0.128263    0.042840   -0.029434    0.303992   -0.287529   -0.091047   \n",
              "3    0.164062    0.120311   -0.070949    0.271467   -0.168666   -0.035562   \n",
              "4    0.099138    0.351319   -0.734843    0.237939   -0.354433   -0.020665   \n",
              "\n",
              "   feature510  feature511  feature512  \n",
              "0    0.084906    0.538402    0.152325  \n",
              "1    0.222008    0.302453    0.092268  \n",
              "2   -0.277219    0.351164    0.202507  \n",
              "3    0.164003    0.568419    0.228852  \n",
              "4   -0.027387   -0.467634   -0.980665  \n",
              "\n",
              "[5 rows x 514 columns]"
            ]
          },
          "execution_count": 13,
          "metadata": {},
          "output_type": "execute_result"
        }
      ],
      "source": [
        "data_feature = pd.read_csv(\"/content/persian_faces_dataset.csv\")\n",
        "data_feature.head()"
      ]
    },
    {
      "cell_type": "code",
      "execution_count": 26,
      "metadata": {
        "colab": {
          "base_uri": "https://localhost:8080/",
          "height": 1000
        },
        "id": "efUJGJkw6P2M",
        "outputId": "fc4cbcfd-726d-4dcb-b801-17c981a1644f"
      },
      "outputs": [
        {
          "name": "stdout",
          "output_type": "stream",
          "text": [
            "Epoch 1/50\n",
            "36/36 [==============================] - 1s 9ms/step - loss: 3.3089 - accuracy: 0.1099 - val_loss: 3.0284 - val_accuracy: 0.4468\n",
            "Epoch 2/50\n",
            "36/36 [==============================] - 0s 4ms/step - loss: 2.8081 - accuracy: 0.2881 - val_loss: 2.3137 - val_accuracy: 0.6064\n",
            "Epoch 3/50\n",
            "36/36 [==============================] - 0s 4ms/step - loss: 2.2469 - accuracy: 0.4211 - val_loss: 1.6191 - val_accuracy: 0.6809\n",
            "Epoch 4/50\n",
            "36/36 [==============================] - 0s 4ms/step - loss: 1.7719 - accuracy: 0.5284 - val_loss: 1.2204 - val_accuracy: 0.7837\n",
            "Epoch 5/50\n",
            "36/36 [==============================] - 0s 4ms/step - loss: 1.4837 - accuracy: 0.6090 - val_loss: 0.9849 - val_accuracy: 0.7979\n",
            "Epoch 6/50\n",
            "36/36 [==============================] - 0s 4ms/step - loss: 1.3149 - accuracy: 0.6782 - val_loss: 0.8251 - val_accuracy: 0.8404\n",
            "Epoch 7/50\n",
            "36/36 [==============================] - 0s 5ms/step - loss: 1.1450 - accuracy: 0.6950 - val_loss: 0.7208 - val_accuracy: 0.8333\n",
            "Epoch 8/50\n",
            "36/36 [==============================] - 0s 4ms/step - loss: 1.0126 - accuracy: 0.7296 - val_loss: 0.6529 - val_accuracy: 0.8582\n",
            "Epoch 9/50\n",
            "36/36 [==============================] - 0s 5ms/step - loss: 0.9860 - accuracy: 0.7181 - val_loss: 0.6156 - val_accuracy: 0.8582\n",
            "Epoch 10/50\n",
            "36/36 [==============================] - 0s 4ms/step - loss: 0.9025 - accuracy: 0.7553 - val_loss: 0.5701 - val_accuracy: 0.8617\n",
            "Epoch 11/50\n",
            "36/36 [==============================] - 0s 4ms/step - loss: 0.8611 - accuracy: 0.7766 - val_loss: 0.5371 - val_accuracy: 0.8936\n",
            "Epoch 12/50\n",
            "36/36 [==============================] - 0s 4ms/step - loss: 0.8187 - accuracy: 0.7766 - val_loss: 0.5280 - val_accuracy: 0.8936\n",
            "Epoch 13/50\n",
            "36/36 [==============================] - 0s 4ms/step - loss: 0.7629 - accuracy: 0.7890 - val_loss: 0.5071 - val_accuracy: 0.8794\n",
            "Epoch 14/50\n",
            "36/36 [==============================] - 0s 5ms/step - loss: 0.7358 - accuracy: 0.8005 - val_loss: 0.4876 - val_accuracy: 0.8901\n",
            "Epoch 15/50\n",
            "36/36 [==============================] - 0s 5ms/step - loss: 0.6848 - accuracy: 0.8165 - val_loss: 0.4855 - val_accuracy: 0.8794\n",
            "Epoch 16/50\n",
            "36/36 [==============================] - 0s 4ms/step - loss: 0.6710 - accuracy: 0.8103 - val_loss: 0.4639 - val_accuracy: 0.8865\n",
            "Epoch 17/50\n",
            "36/36 [==============================] - 0s 4ms/step - loss: 0.6806 - accuracy: 0.8218 - val_loss: 0.4638 - val_accuracy: 0.8865\n",
            "Epoch 18/50\n",
            "36/36 [==============================] - 0s 4ms/step - loss: 0.6272 - accuracy: 0.8289 - val_loss: 0.4439 - val_accuracy: 0.9043\n",
            "Epoch 19/50\n",
            "36/36 [==============================] - 0s 4ms/step - loss: 0.6096 - accuracy: 0.8378 - val_loss: 0.4419 - val_accuracy: 0.8830\n",
            "Epoch 20/50\n",
            "36/36 [==============================] - 0s 5ms/step - loss: 0.6605 - accuracy: 0.8076 - val_loss: 0.4340 - val_accuracy: 0.8972\n",
            "Epoch 21/50\n",
            "36/36 [==============================] - 0s 5ms/step - loss: 0.5951 - accuracy: 0.8280 - val_loss: 0.4243 - val_accuracy: 0.9007\n",
            "Epoch 22/50\n",
            "36/36 [==============================] - 0s 8ms/step - loss: 0.5742 - accuracy: 0.8431 - val_loss: 0.4266 - val_accuracy: 0.8936\n",
            "Epoch 23/50\n",
            "36/36 [==============================] - 0s 7ms/step - loss: 0.5936 - accuracy: 0.8307 - val_loss: 0.4123 - val_accuracy: 0.9113\n",
            "Epoch 24/50\n",
            "36/36 [==============================] - 0s 6ms/step - loss: 0.5416 - accuracy: 0.8449 - val_loss: 0.4265 - val_accuracy: 0.9007\n",
            "Epoch 25/50\n",
            "36/36 [==============================] - 0s 9ms/step - loss: 0.5172 - accuracy: 0.8582 - val_loss: 0.4261 - val_accuracy: 0.9007\n",
            "Epoch 26/50\n",
            "36/36 [==============================] - 0s 7ms/step - loss: 0.5370 - accuracy: 0.8431 - val_loss: 0.4214 - val_accuracy: 0.8936\n",
            "Epoch 27/50\n",
            "36/36 [==============================] - 0s 8ms/step - loss: 0.5530 - accuracy: 0.8413 - val_loss: 0.4092 - val_accuracy: 0.9078\n",
            "Epoch 28/50\n",
            "36/36 [==============================] - 0s 7ms/step - loss: 0.5157 - accuracy: 0.8493 - val_loss: 0.4099 - val_accuracy: 0.9078\n",
            "Epoch 29/50\n",
            "36/36 [==============================] - 0s 9ms/step - loss: 0.5110 - accuracy: 0.8546 - val_loss: 0.4049 - val_accuracy: 0.9078\n",
            "Epoch 30/50\n",
            "36/36 [==============================] - 0s 7ms/step - loss: 0.5037 - accuracy: 0.8644 - val_loss: 0.4011 - val_accuracy: 0.9007\n",
            "Epoch 31/50\n",
            "36/36 [==============================] - 0s 7ms/step - loss: 0.4885 - accuracy: 0.8635 - val_loss: 0.4122 - val_accuracy: 0.9007\n",
            "Epoch 32/50\n",
            "36/36 [==============================] - 0s 7ms/step - loss: 0.4871 - accuracy: 0.8652 - val_loss: 0.4012 - val_accuracy: 0.8936\n",
            "Epoch 33/50\n",
            "36/36 [==============================] - 0s 8ms/step - loss: 0.4659 - accuracy: 0.8670 - val_loss: 0.4124 - val_accuracy: 0.8936\n",
            "Epoch 34/50\n",
            "36/36 [==============================] - 0s 8ms/step - loss: 0.4683 - accuracy: 0.8768 - val_loss: 0.4064 - val_accuracy: 0.8936\n",
            "Epoch 35/50\n",
            "36/36 [==============================] - 0s 8ms/step - loss: 0.4928 - accuracy: 0.8644 - val_loss: 0.4088 - val_accuracy: 0.8972\n",
            "Epoch 36/50\n",
            "36/36 [==============================] - 0s 9ms/step - loss: 0.4768 - accuracy: 0.8617 - val_loss: 0.3980 - val_accuracy: 0.9007\n",
            "Epoch 37/50\n",
            "36/36 [==============================] - 0s 7ms/step - loss: 0.4649 - accuracy: 0.8679 - val_loss: 0.4018 - val_accuracy: 0.9043\n",
            "Epoch 38/50\n",
            "36/36 [==============================] - 0s 6ms/step - loss: 0.4750 - accuracy: 0.8644 - val_loss: 0.3857 - val_accuracy: 0.9078\n",
            "Epoch 39/50\n",
            "36/36 [==============================] - 0s 4ms/step - loss: 0.4350 - accuracy: 0.8706 - val_loss: 0.3930 - val_accuracy: 0.8936\n",
            "Epoch 40/50\n",
            "36/36 [==============================] - 0s 4ms/step - loss: 0.4536 - accuracy: 0.8750 - val_loss: 0.3900 - val_accuracy: 0.8936\n",
            "Epoch 41/50\n",
            "36/36 [==============================] - 0s 5ms/step - loss: 0.4202 - accuracy: 0.8803 - val_loss: 0.3817 - val_accuracy: 0.9043\n",
            "Epoch 42/50\n",
            "36/36 [==============================] - 0s 4ms/step - loss: 0.4052 - accuracy: 0.8874 - val_loss: 0.3812 - val_accuracy: 0.9043\n",
            "Epoch 43/50\n",
            "36/36 [==============================] - 0s 4ms/step - loss: 0.4397 - accuracy: 0.8750 - val_loss: 0.3727 - val_accuracy: 0.9078\n",
            "Epoch 44/50\n",
            "36/36 [==============================] - 0s 4ms/step - loss: 0.4245 - accuracy: 0.8821 - val_loss: 0.3896 - val_accuracy: 0.9043\n",
            "Epoch 45/50\n",
            "36/36 [==============================] - 0s 4ms/step - loss: 0.4236 - accuracy: 0.8794 - val_loss: 0.3781 - val_accuracy: 0.9078\n",
            "Epoch 46/50\n",
            "36/36 [==============================] - 0s 4ms/step - loss: 0.4099 - accuracy: 0.8830 - val_loss: 0.3743 - val_accuracy: 0.9007\n",
            "Epoch 47/50\n",
            "36/36 [==============================] - 0s 4ms/step - loss: 0.4136 - accuracy: 0.8803 - val_loss: 0.3938 - val_accuracy: 0.8972\n",
            "Epoch 48/50\n",
            "36/36 [==============================] - 0s 4ms/step - loss: 0.4218 - accuracy: 0.8803 - val_loss: 0.3964 - val_accuracy: 0.9007\n",
            "Epoch 49/50\n",
            "36/36 [==============================] - 0s 4ms/step - loss: 0.4191 - accuracy: 0.8741 - val_loss: 0.3822 - val_accuracy: 0.9043\n",
            "Epoch 50/50\n",
            "36/36 [==============================] - 0s 4ms/step - loss: 0.4397 - accuracy: 0.8794 - val_loss: 0.4059 - val_accuracy: 0.8936\n",
            "Model saved to mlp_model.h5\n"
          ]
        },
        {
          "data": {
            "image/png": "[encoded data removed]",
            "text/plain": [
              "<Figure size 1000x700 with 1 Axes>"
            ]
          },
          "metadata": {},
          "output_type": "display_data"
        },
        {
          "name": "stdout",
          "output_type": "stream",
          "text": [
            "1/1 [==============================] - 0s 57ms/step\n",
            "The predicted label for the image is: Mehran_Modiri\n"
          ]
        }
      ],
      "source": [
        "label_encoder = train_mlp_model(output_file, model_save_path)\n",
        "\n",
        "# Predict a New Image\n",
        "new_image_path = r\"/content/photo.jpg\"\n",
        "predicted_label = predict_image(model_save_path, label_encoder, new_image_path)\n",
        "print(f\"The predicted label for the image is: {predicted_label}\")"
      ]
    }
  ],
  "metadata": {
    "colab": {
      "provenance": []
    },
    "kernelspec": {
      "display_name": "Python 3",
      "name": "python3"
    },
    "language_info": {
      "name": "python",
      "version": "3.10.0"
    }
  },
  "nbformat": 4,
  "nbformat_minor": 0
}
