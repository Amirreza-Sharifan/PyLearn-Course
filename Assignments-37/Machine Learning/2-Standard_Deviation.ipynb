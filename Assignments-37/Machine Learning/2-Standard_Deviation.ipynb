{
 "cells": [
  {
   "cell_type": "code",
   "execution_count": 3,
   "metadata": {},
   "outputs": [
    {
     "name": "stdout",
     "output_type": "stream",
     "text": [
      "std: 0.9035079029052513\n",
      "var: 0.8163265306122449\n"
     ]
    }
   ],
   "source": [
    "import numpy\n",
    "\n",
    "speed = [86,87,88,86,87,85,86]\n",
    "\n",
    "a = numpy.std(speed)\n",
    "b = numpy.var(speed)\n",
    "\n",
    "print(\"std:\", a)\n",
    "print(\"var:\", b)"
   ]
  }
 ],
 "metadata": {
  "kernelspec": {
   "display_name": "Python 3",
   "language": "python",
   "name": "python3"
  },
  "language_info": {
   "codemirror_mode": {
    "name": "ipython",
    "version": 3
   },
   "file_extension": ".py",
   "mimetype": "text/x-python",
   "name": "python",
   "nbconvert_exporter": "python",
   "pygments_lexer": "ipython3",
   "version": "3.11.3"
  }
 },
 "nbformat": 4,
 "nbformat_minor": 2
}
